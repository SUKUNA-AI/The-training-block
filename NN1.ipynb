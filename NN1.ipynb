{
 "cells": [
  {
   "cell_type": "code",
   "id": "initial_id",
   "metadata": {
    "collapsed": true,
    "ExecuteTime": {
     "end_time": "2024-07-25T15:12:31.984800Z",
     "start_time": "2024-07-25T15:12:29.506034Z"
    }
   },
   "source": [
    "#Задание 1\n",
    "#Напишите функцию, которая возвращает название валюты (поле ‘Name’) с максимальным значением курса\n",
    "# с помощью сервиса www.cbr-xml-daily.ru...ly_json.js\n",
    "\n",
    "\n",
    "import json\n",
    "import requests as r \n",
    "\n",
    "\n",
    "def get_maximum_rate():\n",
    "    v_dict = {}\n",
    "    response = r.get('https://www.cbr-xml-daily.ru/daily_json.js')\n",
    "    \n",
    "    for i in response.json()['Valute']:\n",
    "        v_dict[response.json()['Valute'][i]['Name']] = response.json()['Valute'][i]['Value']\n",
    "    \n",
    "    maximum = max(v_dict.values())\n",
    "    \n",
    "    for key, value in v_dict.items():\n",
    "        if value == maximum:\n",
    "            maximum_amount = key\n",
    "            \n",
    "    return maximum_amount, maximum\n",
    "\n",
    "print(f'Название валюты: {get_maximum_rate()[0]}\\nКурс: {get_maximum_rate()[1]}')\n",
    "        \n",
    "        "
   ],
   "outputs": [
    {
     "name": "stdout",
     "output_type": "stream",
     "text": [
      "Название валюты: СДР (специальные права заимствования)\n",
      "Курс: 113.2255\n"
     ]
    }
   ],
   "execution_count": 29
  },
  {
   "metadata": {
    "ExecuteTime": {
     "end_time": "2024-07-25T22:40:38.296489Z",
     "start_time": "2024-07-25T22:40:32.736111Z"
    }
   },
   "cell_type": "code",
   "source": [
    "#Задание 2\n",
    "#Добавьте в класс Rate параметр diff (со значениями True или False), который в случае значения True \n",
    "# в методах курсов валют (eur, usd итд) будет возвращать не курс валюты, а изменение по сравнению с прошлым значением\n",
    "#Считайте, self.diff будет принимать значение True только при возврате значения курса. \n",
    "#При отображении всей информации о валюте он не используется.\n",
    "\n",
    "import requests as r\n",
    "\n",
    "class Rate:\n",
    "    def __init__(self,format_=input('Выберите формат value(выводит разницу вашей валюты) или full(выводит информацию о валюте):'), diff = input('Введите True или False')):\n",
    "        self.req= None\n",
    "        self.format = format_\n",
    "        self.diff = diff\n",
    "        \n",
    "    def return_rate(self):\n",
    "        self.req = r.get('https://www.cbr-xml-daily.ru/daily_json.js')\n",
    "        return self.req.json()['Valute']\n",
    "    \n",
    "    def difference_output(self,name_valute):\n",
    "        response = self.return_rate()\n",
    "        \n",
    "        if name_valute in response:\n",
    "            if self.format == 'value' and self.diff == 'True':\n",
    "                return response[name_valute]['Value'] - response[name_valute]['Previous']\n",
    "            elif self.format == 'full' and self.diff == 'True':\n",
    "                return response[name_valute]\n",
    "            else:\n",
    "                return response[name_valute]['Value']\n",
    "                \n",
    "        \n",
    "    \n",
    "    def eur(self):\n",
    "        return self.difference_output('EUR')\n",
    "    \n",
    "    def usd(self):\n",
    "        return self.difference_output('USD')\n",
    "    \n",
    "    def gbp(self):\n",
    "        return self.difference_output('GBP')\n",
    "    \n",
    "    def cny(self):\n",
    "        return self.difference_output('CNY')\n",
    "    \n",
    "    def byn(self):\n",
    "        return self.difference_output('BYN')\n",
    "\n",
    "\n",
    "    def execute(self):\n",
    "        select_method = input('Выберите одну из доступных валют - usd, eur, gbp, cny, byn: ')\n",
    "        if self.format == 'value' and self.diff == 'True':\n",
    "            match select_method:\n",
    "                case 'eur':\n",
    "                    return f'Разница курса на сегодня для Евро: {req.eur():.2f}'\n",
    "                case 'usd':\n",
    "                    return f'Разница курса на сегодня для Доллара США: {req.usd():.2f}'\n",
    "                case 'gbp':\n",
    "                    return f'Разница курса на сегодня для фунта стерлингов Соединенных Королевств: {req.gbp():.2f}'\n",
    "                case 'byn':\n",
    "                    return f'Разница курса на сегодня для Белорусского рубля: {req.byn():.2f}'\n",
    "                case 'cny':\n",
    "                    return f'Разница курса на сегодня для Китайского юаня: {req.cny():.2f}'\n",
    "            \n",
    "        elif self.format == 'full' and self.diff == 'True':\n",
    "            match select_method:\n",
    "                case 'eur':\n",
    "                    return f'Полная информация о Евро: {req.eur()}'\n",
    "                case 'usd':\n",
    "                    return f'Полная информация о Долларе США: {req.usd()}'\n",
    "                case 'gbp':\n",
    "                    return f'Полная информация о фунте стерлингов Соединенных Королевств: {req.gbp()}'\n",
    "                case 'byn':\n",
    "                    return f'Полная информация о Белорусском рубле: {req.byn()}'\n",
    "                case 'cny':\n",
    "                    return f'Полная информация о Китайском юане: {req.cny()}'\n",
    "            \n",
    "        else:\n",
    "            match select_method:\n",
    "                case 'eur':\n",
    "                    return f'Евро сегодня: {req.eur():.2f}'\n",
    "                case 'usd':\n",
    "                    return f'Долларе США сегодня: {req.usd():.2f}'\n",
    "                case 'gbp':\n",
    "                    return f'Фунт стерлингов Соединенных Королевств сегодня: {req.gbp():.2f}'\n",
    "                case 'byn':\n",
    "                    return f'Белорусский рубль сегодня: {req.byn():.2f}'\n",
    "                case 'cny':\n",
    "                    return f'Китайский юань сегодня: {req.cny():.2f}'\n",
    "            \n",
    "            \n",
    "        \n",
    "req = Rate()\n",
    "print(req.execute())\n",
    "\n",
    "# Как сделать данную программу более компактной, логичной и оптимизированной?\n",
    "\n",
    "\n",
    "    \n",
    "    \n",
    "    "
   ],
   "id": "2536eaf62b260489",
   "outputs": [
    {
     "name": "stdout",
     "output_type": "stream",
     "text": [
      "None\n"
     ]
    },
    {
     "data": {
      "text/plain": [
       "' Как можно было бы сделать данную программу более логичной и оптимизированной?\\n'"
      ]
     },
     "execution_count": 101,
     "metadata": {},
     "output_type": "execute_result"
    }
   ],
   "execution_count": 101
  },
  {
   "metadata": {},
   "cell_type": "markdown",
   "source": [
    "Задание 3\n",
    "\n",
    "Напишите класс Designer, который учитывает количество международных премий\n",
    "\n",
    "Напишите класс Designer, который учитывает количество международных премий для дизайнеров (из презентации: “Повышение на 1\n",
    "грейд за каждые 7 баллов. Получение международной премии – это +2 балла”). Считайте, что при выходе на работу сотрудник\n",
    "уже имеет две премии и их количество не меняется со стажем (конечно если хотите это можно вручную менять)."
   ],
   "id": "53eef241462a2f6c"
  },
  {
   "metadata": {
    "ExecuteTime": {
     "end_time": "2024-07-25T22:38:07.955385Z",
     "start_time": "2024-07-25T22:38:04.801546Z"
    }
   },
   "cell_type": "code",
   "source": [
    "class Worker:\n",
    "    def __init__(self, name, score):\n",
    "        self.name = name\n",
    "        self.score = score\n",
    "        \n",
    "        self.grade = 1\n",
    "        \n",
    "    def lvl_up(self):\n",
    "        self.grade += 1\n",
    "        \n",
    "    def worker_results(self):\n",
    "        print(f'Имя сотрудника:{self.name}\\nGrade:{self.grade}')\n",
    "        \n",
    "class Designer(Worker):\n",
    "    def __init__(self, name, score):\n",
    "        super().__init__(name, score)\n",
    "        \n",
    "    def time_to_lvl_up(self):\n",
    "        self.score += 1\n",
    "        if self.score % 7 == 0:\n",
    "            self.lvl_up()\n",
    "\n",
    "    def how_many_work_month(self, month=int(input('Укажите стаж в компании в месяцах:'))):\n",
    "        \"\"\" Было решено добавить влияния стажа работы на уровень грейда\n",
    "            Каждые 12 месяцев сотрудник повышается на 1 грейд\n",
    "            Думаю, это было бы более честно к ним\n",
    "            \n",
    "            UPD: Отсчёт месяцев идет с момента первого месяца как пришел сотрудник\n",
    "            Т.е если вы пришли в июле 2024г, то в июле 2025 плюс один грейд  \n",
    "        \"\"\"\n",
    "        \n",
    "        \n",
    "        a = month // 12\n",
    "        while a !=0:\n",
    "            self.lvl_up()\n",
    "            a-=1\n",
    "            \n",
    "        return self.worker_results()\n",
    "\n",
    "worker = Designer(name =input('Введите имя сотрудника:'), score = 4)\n",
    "worker.how_many_work_month()\n",
    "    \n"
   ],
   "id": "b9b90fc5c420aff5",
   "outputs": [
    {
     "name": "stdout",
     "output_type": "stream",
     "text": [
      "Имя сотрудника:у\n",
      "Grade:2\n"
     ]
    }
   ],
   "execution_count": 100
  },
  {
   "metadata": {
    "ExecuteTime": {
     "end_time": "2024-08-10T15:49:15.879499Z",
     "start_time": "2024-08-10T15:49:15.870355Z"
    }
   },
   "cell_type": "code",
   "source": [
    "import numpy as np\n",
    "from numpy import linalg\n",
    "\n",
    "\n",
    "def sys_lin_eq() -> np.array:\n",
    "    a = np.array([[4, 2, 1], [1, 3, 0], [0, 5, 4]])\n",
    "    b = np.array([4, 12, -3])\n",
    "    \n",
    "    return linalg.solve(a, b)\n",
    "print(*sys_lin_eq().astype(int), sep='\\n')"
   ],
   "id": "224e7a96093c6da0",
   "outputs": [
    {
     "name": "stdout",
     "output_type": "stream",
     "text": [
      "0\n",
      "3\n",
      "-5\n"
     ]
    }
   ],
   "execution_count": 6
  },
  {
   "metadata": {},
   "cell_type": "code",
   "outputs": [],
   "execution_count": null,
   "source": " ",
   "id": "4a7cb5e274a84856"
  }
 ],
 "metadata": {
  "kernelspec": {
   "display_name": "Python 3",
   "language": "python",
   "name": "python3"
  },
  "language_info": {
   "codemirror_mode": {
    "name": "ipython",
    "version": 2
   },
   "file_extension": ".py",
   "mimetype": "text/x-python",
   "name": "python",
   "nbconvert_exporter": "python",
   "pygments_lexer": "ipython2",
   "version": "2.7.6"
  }
 },
 "nbformat": 4,
 "nbformat_minor": 5
}
