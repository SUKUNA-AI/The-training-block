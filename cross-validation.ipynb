{
 "cells": [
  {
   "cell_type": "code",
   "id": "initial_id",
   "metadata": {
    "collapsed": true,
    "ExecuteTime": {
     "end_time": "2024-09-06T08:58:04.029646Z",
     "start_time": "2024-09-06T08:58:04.025491Z"
    }
   },
   "source": [
    "import numpy as np\n",
    "import pandas as pd\n",
    "import matplotlib.pyplot as plt\n",
    "import seaborn as sns\n"
   ],
   "outputs": [],
   "execution_count": 1
  },
  {
   "metadata": {
    "ExecuteTime": {
     "end_time": "2024-09-06T08:59:24.750880Z",
     "start_time": "2024-09-06T08:59:24.708884Z"
    }
   },
   "cell_type": "code",
   "source": [
    "df = pd.read_csv('C:\\\\Users\\\\ilyak\\\\Desktop\\\\Python\\\\Machine Learning Python\\\\DATA\\\\Advertising.csv')\n",
    "df.head()"
   ],
   "id": "86f63bc7c796d5fd",
   "outputs": [
    {
     "data": {
      "text/plain": [
       "      TV  radio  newspaper  sales\n",
       "0  230.1   37.8       69.2   22.1\n",
       "1   44.5   39.3       45.1   10.4\n",
       "2   17.2   45.9       69.3    9.3\n",
       "3  151.5   41.3       58.5   18.5\n",
       "4  180.8   10.8       58.4   12.9"
      ],
      "text/html": [
       "<div>\n",
       "<style scoped>\n",
       "    .dataframe tbody tr th:only-of-type {\n",
       "        vertical-align: middle;\n",
       "    }\n",
       "\n",
       "    .dataframe tbody tr th {\n",
       "        vertical-align: top;\n",
       "    }\n",
       "\n",
       "    .dataframe thead th {\n",
       "        text-align: right;\n",
       "    }\n",
       "</style>\n",
       "<table border=\"1\" class=\"dataframe\">\n",
       "  <thead>\n",
       "    <tr style=\"text-align: right;\">\n",
       "      <th></th>\n",
       "      <th>TV</th>\n",
       "      <th>radio</th>\n",
       "      <th>newspaper</th>\n",
       "      <th>sales</th>\n",
       "    </tr>\n",
       "  </thead>\n",
       "  <tbody>\n",
       "    <tr>\n",
       "      <th>0</th>\n",
       "      <td>230.1</td>\n",
       "      <td>37.8</td>\n",
       "      <td>69.2</td>\n",
       "      <td>22.1</td>\n",
       "    </tr>\n",
       "    <tr>\n",
       "      <th>1</th>\n",
       "      <td>44.5</td>\n",
       "      <td>39.3</td>\n",
       "      <td>45.1</td>\n",
       "      <td>10.4</td>\n",
       "    </tr>\n",
       "    <tr>\n",
       "      <th>2</th>\n",
       "      <td>17.2</td>\n",
       "      <td>45.9</td>\n",
       "      <td>69.3</td>\n",
       "      <td>9.3</td>\n",
       "    </tr>\n",
       "    <tr>\n",
       "      <th>3</th>\n",
       "      <td>151.5</td>\n",
       "      <td>41.3</td>\n",
       "      <td>58.5</td>\n",
       "      <td>18.5</td>\n",
       "    </tr>\n",
       "    <tr>\n",
       "      <th>4</th>\n",
       "      <td>180.8</td>\n",
       "      <td>10.8</td>\n",
       "      <td>58.4</td>\n",
       "      <td>12.9</td>\n",
       "    </tr>\n",
       "  </tbody>\n",
       "</table>\n",
       "</div>"
      ]
     },
     "execution_count": 2,
     "metadata": {},
     "output_type": "execute_result"
    }
   ],
   "execution_count": 2
  },
  {
   "metadata": {
    "ExecuteTime": {
     "end_time": "2024-09-06T10:18:45.146387Z",
     "start_time": "2024-09-06T10:18:45.112492Z"
    }
   },
   "cell_type": "code",
   "source": [
    "from sklearn.model_selection import train_test_split\n",
    "from sklearn.preprocessing import StandardScaler\n",
    "from sklearn.linear_model import Ridge\n",
    "from sklearn.metrics import mean_squared_error\n",
    "\n",
    "\n",
    "X = df.drop('sales',axis = 1)\n",
    "y = df['sales']\n",
    "\n",
    "X_train, X_test, y_train, y_test = train_test_split(X, y, test_size=0.1, random_state=21)\n",
    "\n",
    "scaler = StandardScaler()\n",
    "scaler.fit(X_train)\n",
    "X_train = scaler.transform(X_train)\n",
    "X_test = scaler.transform(X_test)\n",
    "\n",
    "model = Ridge(alpha=100)\n",
    "\n",
    "from sklearn.model_selection import cross_val_score\n",
    "\n",
    "scores = cross_val_score(model, X_train, y_train, scoring = 'neg_mean_squared_error', cv = 10)\n",
    "abs(scores.mean())\n",
    "\n"
   ],
   "id": "b0bf4231920fa22f",
   "outputs": [
    {
     "data": {
      "text/plain": [
       "6.4207000073964196"
      ]
     },
     "execution_count": 24,
     "metadata": {},
     "output_type": "execute_result"
    }
   ],
   "execution_count": 24
  },
  {
   "metadata": {
    "ExecuteTime": {
     "end_time": "2024-09-06T10:18:46.624944Z",
     "start_time": "2024-09-06T10:18:46.601165Z"
    }
   },
   "cell_type": "code",
   "source": [
    "model = Ridge(alpha=1)\n",
    "scores = cross_val_score(model, X_train, y_train, scoring = 'neg_mean_squared_error', cv = 10)\n",
    "abs(scores.mean())\n"
   ],
   "id": "d134f6691ddd438c",
   "outputs": [
    {
     "data": {
      "text/plain": [
       "3.0484631197224887"
      ]
     },
     "execution_count": 25,
     "metadata": {},
     "output_type": "execute_result"
    }
   ],
   "execution_count": 25
  },
  {
   "metadata": {
    "ExecuteTime": {
     "end_time": "2024-09-06T10:19:06.458197Z",
     "start_time": "2024-09-06T10:19:06.449042Z"
    }
   },
   "cell_type": "code",
   "source": [
    "model.fit(X_train, y_train)\n",
    "y_final_test_pred = model.predict(X_test)\n",
    "\n",
    "mean_squared_error(y_test, y_final_test_pred)\n"
   ],
   "id": "35e67137b7a281b",
   "outputs": [
    {
     "data": {
      "text/plain": [
       "1.9754646341671402"
      ]
     },
     "execution_count": 27,
     "metadata": {},
     "output_type": "execute_result"
    }
   ],
   "execution_count": 27
  },
  {
   "metadata": {},
   "cell_type": "markdown",
   "source": "Cross_validate",
   "id": "a762b94705a0a0bc"
  },
  {
   "metadata": {
    "ExecuteTime": {
     "end_time": "2024-09-06T10:25:11.073155Z",
     "start_time": "2024-09-06T10:25:11.027188Z"
    }
   },
   "cell_type": "code",
   "source": [
    "%%time\n",
    "X_train, X_test, y_train, y_test = train_test_split(X, y, test_size=0.1, random_state=21)\n",
    "\n",
    "scaler = StandardScaler()\n",
    "scaler.fit(X_train)\n",
    "X_train = scaler.transform(X_train)\n",
    "X_test = scaler.transform(X_test)\n",
    "\n",
    "from sklearn.model_selection import cross_validate\n",
    "\n",
    "model = Ridge(alpha=100)\n",
    "scores = cross_validate(model, X_train, y_train, scoring = ['neg_mean_squared_error', 'neg_mean_absolute_error'], cv = 10)"
   ],
   "id": "e1b38ee0de858f1",
   "outputs": [
    {
     "name": "stdout",
     "output_type": "stream",
     "text": [
      "CPU times: total: 188 ms\n",
      "Wall time: 39.4 ms\n"
     ]
    }
   ],
   "execution_count": 32
  },
  {
   "metadata": {
    "ExecuteTime": {
     "end_time": "2024-09-06T10:26:49.362466Z",
     "start_time": "2024-09-06T10:26:49.354184Z"
    }
   },
   "cell_type": "code",
   "source": [
    "scores = pd.DataFrame(scores)\n",
    "scores\n",
    "scores.mean()"
   ],
   "id": "5155f971df25bc11",
   "outputs": [
    {
     "data": {
      "text/plain": [
       "fit_time                        0.001282\n",
       "score_time                      0.001626\n",
       "test_neg_mean_squared_error    -6.420700\n",
       "test_neg_mean_absolute_error   -1.880439\n",
       "dtype: float64"
      ]
     },
     "execution_count": 34,
     "metadata": {},
     "output_type": "execute_result"
    }
   ],
   "execution_count": 34
  },
  {
   "metadata": {
    "ExecuteTime": {
     "end_time": "2024-09-06T10:28:37.934371Z",
     "start_time": "2024-09-06T10:28:37.902343Z"
    }
   },
   "cell_type": "code",
   "source": [
    "model_two = Ridge(alpha=1)\n",
    "\n",
    "scores_two= cross_validate(model_two, X_train, y_train, scoring = ['neg_mean_squared_error', 'neg_mean_absolute_error'], cv = 10)\n",
    "\n",
    "scores_two = pd.DataFrame(scores_two)\n",
    "scores_two.mean()"
   ],
   "id": "f3dc0c0f3c7c0473",
   "outputs": [
    {
     "data": {
      "text/plain": [
       "fit_time                        0.001077\n",
       "score_time                      0.001034\n",
       "test_neg_mean_squared_error    -3.048463\n",
       "test_neg_mean_absolute_error   -1.319406\n",
       "dtype: float64"
      ]
     },
     "execution_count": 36,
     "metadata": {},
     "output_type": "execute_result"
    }
   ],
   "execution_count": 36
  },
  {
   "metadata": {
    "ExecuteTime": {
     "end_time": "2024-09-06T10:30:37.277308Z",
     "start_time": "2024-09-06T10:30:37.265175Z"
    }
   },
   "cell_type": "code",
   "source": [
    "model_two.fit(X_train, y_train)\n",
    "y_final_test_two_pred = model_two.predict(X_test)\n",
    "\n",
    "np.sqrt(mean_squared_error(y_test, y_final_test_two_pred))"
   ],
   "id": "59e71a37118a2e27",
   "outputs": [
    {
     "data": {
      "text/plain": [
       "1.4055122319521591"
      ]
     },
     "execution_count": 38,
     "metadata": {},
     "output_type": "execute_result"
    }
   ],
   "execution_count": 38
  },
  {
   "metadata": {},
   "cell_type": "code",
   "outputs": [],
   "execution_count": null,
   "source": "",
   "id": "e14454e28784484b"
  }
 ],
 "metadata": {
  "kernelspec": {
   "display_name": "Python 3",
   "language": "python",
   "name": "python3"
  },
  "language_info": {
   "codemirror_mode": {
    "name": "ipython",
    "version": 2
   },
   "file_extension": ".py",
   "mimetype": "text/x-python",
   "name": "python",
   "nbconvert_exporter": "python",
   "pygments_lexer": "ipython2",
   "version": "2.7.6"
  }
 },
 "nbformat": 4,
 "nbformat_minor": 5
}
