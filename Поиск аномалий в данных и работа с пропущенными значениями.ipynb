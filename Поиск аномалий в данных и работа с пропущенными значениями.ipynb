{
 "cells": [
  {
   "cell_type": "code",
   "id": "initial_id",
   "metadata": {
    "collapsed": true,
    "ExecuteTime": {
     "end_time": "2024-09-07T21:09:01.881678Z",
     "start_time": "2024-09-07T21:09:01.823997Z"
    }
   },
   "source": [
    "import pandas as pd\n",
    "\n",
    "cols = ['surgery?', 'Age', 'rectal_temperature', 'pulse', 'respiratory_rate','temperature_of_extremities', 'pain', 'outcome']\n",
    "df = pd.read_csv('C:\\\\Users\\\\ilyak\\\\Desktop\\\\Python\\\\Python_projects\\\\Материалы\\\\horse_data.csv',\n",
    "                 header=None, na_values='?', usecols = [0, 1, 3, 4, 5, 6, 10, 22], names = cols)\n",
    "df"
   ],
   "outputs": [
    {
     "data": {
      "text/plain": [
       "     surgery?  Age  rectal_temperature  pulse  respiratory_rate  \\\n",
       "0         2.0    1                38.5   66.0              28.0   \n",
       "1         1.0    1                39.2   88.0              20.0   \n",
       "2         2.0    1                38.3   40.0              24.0   \n",
       "3         1.0    9                39.1  164.0              84.0   \n",
       "4         2.0    1                37.3  104.0              35.0   \n",
       "..        ...  ...                 ...    ...               ...   \n",
       "295       1.0    1                 NaN  120.0              70.0   \n",
       "296       2.0    1                37.2   72.0              24.0   \n",
       "297       1.0    1                37.5   72.0              30.0   \n",
       "298       1.0    1                36.5  100.0              24.0   \n",
       "299       1.0    1                37.2   40.0              20.0   \n",
       "\n",
       "     temperature_of_extremities  pain  outcome  \n",
       "0                           3.0   5.0      2.0  \n",
       "1                           NaN   3.0      3.0  \n",
       "2                           1.0   3.0      1.0  \n",
       "3                           4.0   2.0      2.0  \n",
       "4                           NaN   NaN      2.0  \n",
       "..                          ...   ...      ...  \n",
       "295                         4.0   2.0      3.0  \n",
       "296                         3.0   4.0      3.0  \n",
       "297                         4.0   4.0      2.0  \n",
       "298                         3.0   3.0      1.0  \n",
       "299                         NaN   NaN      3.0  \n",
       "\n",
       "[300 rows x 8 columns]"
      ],
      "text/html": [
       "<div>\n",
       "<style scoped>\n",
       "    .dataframe tbody tr th:only-of-type {\n",
       "        vertical-align: middle;\n",
       "    }\n",
       "\n",
       "    .dataframe tbody tr th {\n",
       "        vertical-align: top;\n",
       "    }\n",
       "\n",
       "    .dataframe thead th {\n",
       "        text-align: right;\n",
       "    }\n",
       "</style>\n",
       "<table border=\"1\" class=\"dataframe\">\n",
       "  <thead>\n",
       "    <tr style=\"text-align: right;\">\n",
       "      <th></th>\n",
       "      <th>surgery?</th>\n",
       "      <th>Age</th>\n",
       "      <th>rectal_temperature</th>\n",
       "      <th>pulse</th>\n",
       "      <th>respiratory_rate</th>\n",
       "      <th>temperature_of_extremities</th>\n",
       "      <th>pain</th>\n",
       "      <th>outcome</th>\n",
       "    </tr>\n",
       "  </thead>\n",
       "  <tbody>\n",
       "    <tr>\n",
       "      <th>0</th>\n",
       "      <td>2.0</td>\n",
       "      <td>1</td>\n",
       "      <td>38.5</td>\n",
       "      <td>66.0</td>\n",
       "      <td>28.0</td>\n",
       "      <td>3.0</td>\n",
       "      <td>5.0</td>\n",
       "      <td>2.0</td>\n",
       "    </tr>\n",
       "    <tr>\n",
       "      <th>1</th>\n",
       "      <td>1.0</td>\n",
       "      <td>1</td>\n",
       "      <td>39.2</td>\n",
       "      <td>88.0</td>\n",
       "      <td>20.0</td>\n",
       "      <td>NaN</td>\n",
       "      <td>3.0</td>\n",
       "      <td>3.0</td>\n",
       "    </tr>\n",
       "    <tr>\n",
       "      <th>2</th>\n",
       "      <td>2.0</td>\n",
       "      <td>1</td>\n",
       "      <td>38.3</td>\n",
       "      <td>40.0</td>\n",
       "      <td>24.0</td>\n",
       "      <td>1.0</td>\n",
       "      <td>3.0</td>\n",
       "      <td>1.0</td>\n",
       "    </tr>\n",
       "    <tr>\n",
       "      <th>3</th>\n",
       "      <td>1.0</td>\n",
       "      <td>9</td>\n",
       "      <td>39.1</td>\n",
       "      <td>164.0</td>\n",
       "      <td>84.0</td>\n",
       "      <td>4.0</td>\n",
       "      <td>2.0</td>\n",
       "      <td>2.0</td>\n",
       "    </tr>\n",
       "    <tr>\n",
       "      <th>4</th>\n",
       "      <td>2.0</td>\n",
       "      <td>1</td>\n",
       "      <td>37.3</td>\n",
       "      <td>104.0</td>\n",
       "      <td>35.0</td>\n",
       "      <td>NaN</td>\n",
       "      <td>NaN</td>\n",
       "      <td>2.0</td>\n",
       "    </tr>\n",
       "    <tr>\n",
       "      <th>...</th>\n",
       "      <td>...</td>\n",
       "      <td>...</td>\n",
       "      <td>...</td>\n",
       "      <td>...</td>\n",
       "      <td>...</td>\n",
       "      <td>...</td>\n",
       "      <td>...</td>\n",
       "      <td>...</td>\n",
       "    </tr>\n",
       "    <tr>\n",
       "      <th>295</th>\n",
       "      <td>1.0</td>\n",
       "      <td>1</td>\n",
       "      <td>NaN</td>\n",
       "      <td>120.0</td>\n",
       "      <td>70.0</td>\n",
       "      <td>4.0</td>\n",
       "      <td>2.0</td>\n",
       "      <td>3.0</td>\n",
       "    </tr>\n",
       "    <tr>\n",
       "      <th>296</th>\n",
       "      <td>2.0</td>\n",
       "      <td>1</td>\n",
       "      <td>37.2</td>\n",
       "      <td>72.0</td>\n",
       "      <td>24.0</td>\n",
       "      <td>3.0</td>\n",
       "      <td>4.0</td>\n",
       "      <td>3.0</td>\n",
       "    </tr>\n",
       "    <tr>\n",
       "      <th>297</th>\n",
       "      <td>1.0</td>\n",
       "      <td>1</td>\n",
       "      <td>37.5</td>\n",
       "      <td>72.0</td>\n",
       "      <td>30.0</td>\n",
       "      <td>4.0</td>\n",
       "      <td>4.0</td>\n",
       "      <td>2.0</td>\n",
       "    </tr>\n",
       "    <tr>\n",
       "      <th>298</th>\n",
       "      <td>1.0</td>\n",
       "      <td>1</td>\n",
       "      <td>36.5</td>\n",
       "      <td>100.0</td>\n",
       "      <td>24.0</td>\n",
       "      <td>3.0</td>\n",
       "      <td>3.0</td>\n",
       "      <td>1.0</td>\n",
       "    </tr>\n",
       "    <tr>\n",
       "      <th>299</th>\n",
       "      <td>1.0</td>\n",
       "      <td>1</td>\n",
       "      <td>37.2</td>\n",
       "      <td>40.0</td>\n",
       "      <td>20.0</td>\n",
       "      <td>NaN</td>\n",
       "      <td>NaN</td>\n",
       "      <td>3.0</td>\n",
       "    </tr>\n",
       "  </tbody>\n",
       "</table>\n",
       "<p>300 rows × 8 columns</p>\n",
       "</div>"
      ]
     },
     "execution_count": 2,
     "metadata": {},
     "output_type": "execute_result"
    }
   ],
   "execution_count": 2
  },
  {
   "metadata": {},
   "cell_type": "markdown",
   "source": [
    "Задание 2. Первичное изучение данных\n",
    "Проанализировать значения по столбцам, рассчитать базовые статистики, найти выбросы.\n",
    "\n",
    "в столбце Age есть значения 9, которые лежат вне интервала возможных значений (1,2), предположим, что это неправильное распознавание значения 2, так как его в датафрейме изначально нет, заменим 9 на на 2.\n",
    "\n",
    "'rectal_temperature', 'pulse', 'respiratory_rate' - количественные, рассчитаем базовые статистики\n",
    "\n",
    "'surgery?', 'Age','temperature_of_extremities', 'pain', 'outcome' - категориальные, рассчитаем частотный анализ и критерии сопоставления групп, проверим уникальные значения категорий на предмет ошибок."
   ],
   "id": "4307508907a255ca"
  },
  {
   "metadata": {
    "ExecuteTime": {
     "end_time": "2024-09-07T21:09:02.321536Z",
     "start_time": "2024-09-07T21:09:02.294047Z"
    }
   },
   "cell_type": "code",
   "source": [
    "df.loc[(df['Age'] == 9), 'Age'] = 2\n",
    "df"
   ],
   "id": "19c6c804d916bb5f",
   "outputs": [
    {
     "data": {
      "text/plain": [
       "     surgery?  Age  rectal_temperature  pulse  respiratory_rate  \\\n",
       "0         2.0    1                38.5   66.0              28.0   \n",
       "1         1.0    1                39.2   88.0              20.0   \n",
       "2         2.0    1                38.3   40.0              24.0   \n",
       "3         1.0    2                39.1  164.0              84.0   \n",
       "4         2.0    1                37.3  104.0              35.0   \n",
       "..        ...  ...                 ...    ...               ...   \n",
       "295       1.0    1                 NaN  120.0              70.0   \n",
       "296       2.0    1                37.2   72.0              24.0   \n",
       "297       1.0    1                37.5   72.0              30.0   \n",
       "298       1.0    1                36.5  100.0              24.0   \n",
       "299       1.0    1                37.2   40.0              20.0   \n",
       "\n",
       "     temperature_of_extremities  pain  outcome  \n",
       "0                           3.0   5.0      2.0  \n",
       "1                           NaN   3.0      3.0  \n",
       "2                           1.0   3.0      1.0  \n",
       "3                           4.0   2.0      2.0  \n",
       "4                           NaN   NaN      2.0  \n",
       "..                          ...   ...      ...  \n",
       "295                         4.0   2.0      3.0  \n",
       "296                         3.0   4.0      3.0  \n",
       "297                         4.0   4.0      2.0  \n",
       "298                         3.0   3.0      1.0  \n",
       "299                         NaN   NaN      3.0  \n",
       "\n",
       "[300 rows x 8 columns]"
      ],
      "text/html": [
       "<div>\n",
       "<style scoped>\n",
       "    .dataframe tbody tr th:only-of-type {\n",
       "        vertical-align: middle;\n",
       "    }\n",
       "\n",
       "    .dataframe tbody tr th {\n",
       "        vertical-align: top;\n",
       "    }\n",
       "\n",
       "    .dataframe thead th {\n",
       "        text-align: right;\n",
       "    }\n",
       "</style>\n",
       "<table border=\"1\" class=\"dataframe\">\n",
       "  <thead>\n",
       "    <tr style=\"text-align: right;\">\n",
       "      <th></th>\n",
       "      <th>surgery?</th>\n",
       "      <th>Age</th>\n",
       "      <th>rectal_temperature</th>\n",
       "      <th>pulse</th>\n",
       "      <th>respiratory_rate</th>\n",
       "      <th>temperature_of_extremities</th>\n",
       "      <th>pain</th>\n",
       "      <th>outcome</th>\n",
       "    </tr>\n",
       "  </thead>\n",
       "  <tbody>\n",
       "    <tr>\n",
       "      <th>0</th>\n",
       "      <td>2.0</td>\n",
       "      <td>1</td>\n",
       "      <td>38.5</td>\n",
       "      <td>66.0</td>\n",
       "      <td>28.0</td>\n",
       "      <td>3.0</td>\n",
       "      <td>5.0</td>\n",
       "      <td>2.0</td>\n",
       "    </tr>\n",
       "    <tr>\n",
       "      <th>1</th>\n",
       "      <td>1.0</td>\n",
       "      <td>1</td>\n",
       "      <td>39.2</td>\n",
       "      <td>88.0</td>\n",
       "      <td>20.0</td>\n",
       "      <td>NaN</td>\n",
       "      <td>3.0</td>\n",
       "      <td>3.0</td>\n",
       "    </tr>\n",
       "    <tr>\n",
       "      <th>2</th>\n",
       "      <td>2.0</td>\n",
       "      <td>1</td>\n",
       "      <td>38.3</td>\n",
       "      <td>40.0</td>\n",
       "      <td>24.0</td>\n",
       "      <td>1.0</td>\n",
       "      <td>3.0</td>\n",
       "      <td>1.0</td>\n",
       "    </tr>\n",
       "    <tr>\n",
       "      <th>3</th>\n",
       "      <td>1.0</td>\n",
       "      <td>2</td>\n",
       "      <td>39.1</td>\n",
       "      <td>164.0</td>\n",
       "      <td>84.0</td>\n",
       "      <td>4.0</td>\n",
       "      <td>2.0</td>\n",
       "      <td>2.0</td>\n",
       "    </tr>\n",
       "    <tr>\n",
       "      <th>4</th>\n",
       "      <td>2.0</td>\n",
       "      <td>1</td>\n",
       "      <td>37.3</td>\n",
       "      <td>104.0</td>\n",
       "      <td>35.0</td>\n",
       "      <td>NaN</td>\n",
       "      <td>NaN</td>\n",
       "      <td>2.0</td>\n",
       "    </tr>\n",
       "    <tr>\n",
       "      <th>...</th>\n",
       "      <td>...</td>\n",
       "      <td>...</td>\n",
       "      <td>...</td>\n",
       "      <td>...</td>\n",
       "      <td>...</td>\n",
       "      <td>...</td>\n",
       "      <td>...</td>\n",
       "      <td>...</td>\n",
       "    </tr>\n",
       "    <tr>\n",
       "      <th>295</th>\n",
       "      <td>1.0</td>\n",
       "      <td>1</td>\n",
       "      <td>NaN</td>\n",
       "      <td>120.0</td>\n",
       "      <td>70.0</td>\n",
       "      <td>4.0</td>\n",
       "      <td>2.0</td>\n",
       "      <td>3.0</td>\n",
       "    </tr>\n",
       "    <tr>\n",
       "      <th>296</th>\n",
       "      <td>2.0</td>\n",
       "      <td>1</td>\n",
       "      <td>37.2</td>\n",
       "      <td>72.0</td>\n",
       "      <td>24.0</td>\n",
       "      <td>3.0</td>\n",
       "      <td>4.0</td>\n",
       "      <td>3.0</td>\n",
       "    </tr>\n",
       "    <tr>\n",
       "      <th>297</th>\n",
       "      <td>1.0</td>\n",
       "      <td>1</td>\n",
       "      <td>37.5</td>\n",
       "      <td>72.0</td>\n",
       "      <td>30.0</td>\n",
       "      <td>4.0</td>\n",
       "      <td>4.0</td>\n",
       "      <td>2.0</td>\n",
       "    </tr>\n",
       "    <tr>\n",
       "      <th>298</th>\n",
       "      <td>1.0</td>\n",
       "      <td>1</td>\n",
       "      <td>36.5</td>\n",
       "      <td>100.0</td>\n",
       "      <td>24.0</td>\n",
       "      <td>3.0</td>\n",
       "      <td>3.0</td>\n",
       "      <td>1.0</td>\n",
       "    </tr>\n",
       "    <tr>\n",
       "      <th>299</th>\n",
       "      <td>1.0</td>\n",
       "      <td>1</td>\n",
       "      <td>37.2</td>\n",
       "      <td>40.0</td>\n",
       "      <td>20.0</td>\n",
       "      <td>NaN</td>\n",
       "      <td>NaN</td>\n",
       "      <td>3.0</td>\n",
       "    </tr>\n",
       "  </tbody>\n",
       "</table>\n",
       "<p>300 rows × 8 columns</p>\n",
       "</div>"
      ]
     },
     "execution_count": 3,
     "metadata": {},
     "output_type": "execute_result"
    }
   ],
   "execution_count": 3
  },
  {
   "metadata": {
    "ExecuteTime": {
     "end_time": "2024-09-07T21:09:02.410318Z",
     "start_time": "2024-09-07T21:09:02.370773Z"
    }
   },
   "cell_type": "code",
   "source": "df.describe()",
   "id": "cff5b989eadbadd8",
   "outputs": [
    {
     "data": {
      "text/plain": [
       "         surgery?         Age  rectal_temperature       pulse  \\\n",
       "count  299.000000  300.000000          240.000000  276.000000   \n",
       "mean     1.397993    1.080000           38.167917   71.913043   \n",
       "std      0.490305    0.271746            0.732289   28.630557   \n",
       "min      1.000000    1.000000           35.400000   30.000000   \n",
       "25%      1.000000    1.000000           37.800000   48.000000   \n",
       "50%      1.000000    1.000000           38.200000   64.000000   \n",
       "75%      2.000000    1.000000           38.500000   88.000000   \n",
       "max      2.000000    2.000000           40.800000  184.000000   \n",
       "\n",
       "       respiratory_rate  temperature_of_extremities       pain     outcome  \n",
       "count        242.000000                  244.000000  245.00000  299.000000  \n",
       "mean          30.417355                    2.348361    2.95102    1.551839  \n",
       "std           17.642231                    1.045054    1.30794    0.737187  \n",
       "min            8.000000                    1.000000    1.00000    1.000000  \n",
       "25%           18.500000                    1.000000    2.00000    1.000000  \n",
       "50%           24.500000                    3.000000    3.00000    1.000000  \n",
       "75%           36.000000                    3.000000    4.00000    2.000000  \n",
       "max           96.000000                    4.000000    5.00000    3.000000  "
      ],
      "text/html": [
       "<div>\n",
       "<style scoped>\n",
       "    .dataframe tbody tr th:only-of-type {\n",
       "        vertical-align: middle;\n",
       "    }\n",
       "\n",
       "    .dataframe tbody tr th {\n",
       "        vertical-align: top;\n",
       "    }\n",
       "\n",
       "    .dataframe thead th {\n",
       "        text-align: right;\n",
       "    }\n",
       "</style>\n",
       "<table border=\"1\" class=\"dataframe\">\n",
       "  <thead>\n",
       "    <tr style=\"text-align: right;\">\n",
       "      <th></th>\n",
       "      <th>surgery?</th>\n",
       "      <th>Age</th>\n",
       "      <th>rectal_temperature</th>\n",
       "      <th>pulse</th>\n",
       "      <th>respiratory_rate</th>\n",
       "      <th>temperature_of_extremities</th>\n",
       "      <th>pain</th>\n",
       "      <th>outcome</th>\n",
       "    </tr>\n",
       "  </thead>\n",
       "  <tbody>\n",
       "    <tr>\n",
       "      <th>count</th>\n",
       "      <td>299.000000</td>\n",
       "      <td>300.000000</td>\n",
       "      <td>240.000000</td>\n",
       "      <td>276.000000</td>\n",
       "      <td>242.000000</td>\n",
       "      <td>244.000000</td>\n",
       "      <td>245.00000</td>\n",
       "      <td>299.000000</td>\n",
       "    </tr>\n",
       "    <tr>\n",
       "      <th>mean</th>\n",
       "      <td>1.397993</td>\n",
       "      <td>1.080000</td>\n",
       "      <td>38.167917</td>\n",
       "      <td>71.913043</td>\n",
       "      <td>30.417355</td>\n",
       "      <td>2.348361</td>\n",
       "      <td>2.95102</td>\n",
       "      <td>1.551839</td>\n",
       "    </tr>\n",
       "    <tr>\n",
       "      <th>std</th>\n",
       "      <td>0.490305</td>\n",
       "      <td>0.271746</td>\n",
       "      <td>0.732289</td>\n",
       "      <td>28.630557</td>\n",
       "      <td>17.642231</td>\n",
       "      <td>1.045054</td>\n",
       "      <td>1.30794</td>\n",
       "      <td>0.737187</td>\n",
       "    </tr>\n",
       "    <tr>\n",
       "      <th>min</th>\n",
       "      <td>1.000000</td>\n",
       "      <td>1.000000</td>\n",
       "      <td>35.400000</td>\n",
       "      <td>30.000000</td>\n",
       "      <td>8.000000</td>\n",
       "      <td>1.000000</td>\n",
       "      <td>1.00000</td>\n",
       "      <td>1.000000</td>\n",
       "    </tr>\n",
       "    <tr>\n",
       "      <th>25%</th>\n",
       "      <td>1.000000</td>\n",
       "      <td>1.000000</td>\n",
       "      <td>37.800000</td>\n",
       "      <td>48.000000</td>\n",
       "      <td>18.500000</td>\n",
       "      <td>1.000000</td>\n",
       "      <td>2.00000</td>\n",
       "      <td>1.000000</td>\n",
       "    </tr>\n",
       "    <tr>\n",
       "      <th>50%</th>\n",
       "      <td>1.000000</td>\n",
       "      <td>1.000000</td>\n",
       "      <td>38.200000</td>\n",
       "      <td>64.000000</td>\n",
       "      <td>24.500000</td>\n",
       "      <td>3.000000</td>\n",
       "      <td>3.00000</td>\n",
       "      <td>1.000000</td>\n",
       "    </tr>\n",
       "    <tr>\n",
       "      <th>75%</th>\n",
       "      <td>2.000000</td>\n",
       "      <td>1.000000</td>\n",
       "      <td>38.500000</td>\n",
       "      <td>88.000000</td>\n",
       "      <td>36.000000</td>\n",
       "      <td>3.000000</td>\n",
       "      <td>4.00000</td>\n",
       "      <td>2.000000</td>\n",
       "    </tr>\n",
       "    <tr>\n",
       "      <th>max</th>\n",
       "      <td>2.000000</td>\n",
       "      <td>2.000000</td>\n",
       "      <td>40.800000</td>\n",
       "      <td>184.000000</td>\n",
       "      <td>96.000000</td>\n",
       "      <td>4.000000</td>\n",
       "      <td>5.00000</td>\n",
       "      <td>3.000000</td>\n",
       "    </tr>\n",
       "  </tbody>\n",
       "</table>\n",
       "</div>"
      ]
     },
     "execution_count": 4,
     "metadata": {},
     "output_type": "execute_result"
    }
   ],
   "execution_count": 4
  },
  {
   "metadata": {},
   "cell_type": "markdown",
   "source": "Max and min",
   "id": "4189cc6aef9a91eb"
  },
  {
   "metadata": {
    "ExecuteTime": {
     "end_time": "2024-09-07T21:09:02.615584Z",
     "start_time": "2024-09-07T21:09:02.606164Z"
    }
   },
   "cell_type": "code",
   "source": [
    "maximum_rectal_temperature = df['rectal_temperature'].max()\n",
    "maximum_pulse = df['pulse'].max()\n",
    "maximum_respiratory_rate = df['respiratory_rate'].max()\n",
    "minimun_rectal_temperature = df['rectal_temperature'].min()\n",
    "minimun_pulse = df['pulse'].min()\n",
    "minimun_respiratory_rate = df['respiratory_rate'].min()\n",
    "print(f'Максимальная ректальная температура: {maximum_rectal_temperature}\\n'\n",
    "      f'максимальный пульс: {maximum_pulse}\\n '\n",
    "      f'максимальная частота дыхания: {maximum_respiratory_rate}\\n'\n",
    "      f'минимальная ректальная температура: {minimun_rectal_temperature}\\n'\n",
    "      f'минимальный пульс: {minimun_pulse}\\n '\n",
    "      f'минимальная частота дыхания: {minimun_respiratory_rate}')"
   ],
   "id": "3465422bf10470b8",
   "outputs": [
    {
     "name": "stdout",
     "output_type": "stream",
     "text": [
      "Максимальная ректальная температура: 40.8\n",
      "максимальный пульс: 184.0\n",
      " максимальная частота дыхания: 96.0\n",
      "минимальная ректальная температура: 35.4\n",
      "минимальный пульс: 30.0\n",
      " минимальная частота дыхания: 8.0\n"
     ]
    }
   ],
   "execution_count": 5
  },
  {
   "metadata": {},
   "cell_type": "markdown",
   "source": [
    "Размах -\n",
    "разность между наибольшим и наименьшим значениями показателя"
   ],
   "id": "18b8be9ad197393d"
  },
  {
   "metadata": {
    "ExecuteTime": {
     "end_time": "2024-09-07T21:09:02.909597Z",
     "start_time": "2024-09-07T21:09:02.901967Z"
    }
   },
   "cell_type": "code",
   "source": [
    "rectal_temperature_range = maximum_rectal_temperature - minimun_rectal_temperature\n",
    "pulse_range = maximum_pulse - minimun_pulse\n",
    "respiratory_rate_range = maximum_respiratory_rate - minimun_respiratory_rate\n",
    "print(f'Размах ректальной температуры: {rectal_temperature_range:.3f}\\n'\n",
    "      f'Размах пульса: {pulse_range}\\n '\n",
    "      f'Размах частоты дыхания: {respiratory_rate_range}')\n"
   ],
   "id": "2b8f6b49446b1912",
   "outputs": [
    {
     "name": "stdout",
     "output_type": "stream",
     "text": [
      "Размах ректальной температуры: 5.400\n",
      "Размах пульса: 154.0\n",
      " Размах частоты дыхания: 88.0\n"
     ]
    }
   ],
   "execution_count": 6
  },
  {
   "metadata": {},
   "cell_type": "markdown",
   "source": "Среднее арифметическое - частное от деления суммы всех чисел ряда на их количество",
   "id": "952d3608ae2090fb"
  },
  {
   "metadata": {
    "ExecuteTime": {
     "end_time": "2024-09-07T21:09:03.300637Z",
     "start_time": "2024-09-07T21:09:03.291825Z"
    }
   },
   "cell_type": "code",
   "source": [
    "rectal_temperature_mean = df['rectal_temperature'].mean()\n",
    "pulse_mean = df['pulse'].mean()\n",
    "respiratory_rate_mean = df['respiratory_rate'].mean()\n",
    "print(f'Среднее арифметическое ректальной температуры: {rectal_temperature_mean:.6f}\\n'\n",
    "      f'Среднее арифметическое пульса: {pulse_mean:.6f}\\n '\n",
    "      f'Среднее арифметическое частоты дыхания: {respiratory_rate_mean:.6f}')"
   ],
   "id": "953b77158b15d0d7",
   "outputs": [
    {
     "name": "stdout",
     "output_type": "stream",
     "text": [
      "Среднее арифметическое ректальной температуры: 38.167917\n",
      "Среднее арифметическое пульса: 71.913043\n",
      " Среднее арифметическое частоты дыхания: 30.417355\n"
     ]
    }
   ],
   "execution_count": 7
  },
  {
   "metadata": {},
   "cell_type": "markdown",
   "source": [
    "Медиана -\n",
    "число, половина из элементов выборки больше которого, а другая половина – меньше"
   ],
   "id": "992bf53afe8cc940"
  },
  {
   "metadata": {
    "ExecuteTime": {
     "end_time": "2024-09-07T21:09:03.725122Z",
     "start_time": "2024-09-07T21:09:03.715826Z"
    }
   },
   "cell_type": "code",
   "source": [
    "rectal_temperature_median = df['rectal_temperature'].median()\n",
    "pulse_median = df['pulse'].median()\n",
    "respiratory_rate_median = df['respiratory_rate'].median()\n",
    "print(f'Медиана ректальной температуры: {rectal_temperature_median:.3f}\\n'\n",
    "      f'Медиана пульса: {pulse_median:.3f}\\n '\n",
    "      f'Медиана частоты дыхания: {respiratory_rate_median:.3f}')"
   ],
   "id": "f65eb4a79e5ed07f",
   "outputs": [
    {
     "name": "stdout",
     "output_type": "stream",
     "text": [
      "Медиана ректальной температуры: 38.200\n",
      "Медиана пульса: 64.000\n",
      " Медиана частоты дыхания: 24.500\n"
     ]
    }
   ],
   "execution_count": 8
  },
  {
   "metadata": {},
   "cell_type": "markdown",
   "source": [
    "СКО:\n",
    "измеряется в единицах самой случайной величины и используется при расчете стандартной ошибки среднего арифметического, при построении доверительных интервалов, при статистической проверке гипотез, при измерении линейной взаимосвязи между случайными величинами. Является корнем из дисперсии."
   ],
   "id": "7be783cbebf1d04"
  },
  {
   "metadata": {
    "ExecuteTime": {
     "end_time": "2024-09-07T21:09:03.922520Z",
     "start_time": "2024-09-07T21:09:03.913516Z"
    }
   },
   "cell_type": "code",
   "source": [
    "rectal_temperature_std = df['rectal_temperature'].std()\n",
    "pulse_std = df['pulse'].std()\n",
    "respiratory_rate_std = df['respiratory_rate'].std()\n",
    "print(f'СКО ректальной температуры: {rectal_temperature_std:.6f}\\n'\n",
    "      f'СКО пульса: {pulse_std:.6f}\\n '\n",
    "      f'СКО частоты дыхания: {respiratory_rate_std:.6f}')"
   ],
   "id": "3bb0473e19e2351e",
   "outputs": [
    {
     "name": "stdout",
     "output_type": "stream",
     "text": [
      "СКО ректальной температуры: 0.732289\n",
      "СКО пульса: 28.630557\n",
      " СКО частоты дыхания: 17.642231\n"
     ]
    }
   ],
   "execution_count": 9
  },
  {
   "metadata": {},
   "cell_type": "markdown",
   "source": [
    "Дисперсия: \n",
    "просто квадрат стандартного отклонения. Во многих статистических формулах удобнее использовать СКО, а не извлекать каждый раз корень из дисперсии."
   ],
   "id": "e5c43adcbae8f5b1"
  },
  {
   "metadata": {
    "ExecuteTime": {
     "end_time": "2024-09-07T21:09:04.067045Z",
     "start_time": "2024-09-07T21:09:04.057944Z"
    }
   },
   "cell_type": "code",
   "source": [
    "%%time\n",
    "rectal_temperature_var = df['rectal_temperature'].var()\n",
    "pulse_var = df['pulse'].var()\n",
    "respiratory_rate_var = df['respiratory_rate'].var()\n",
    "print(f'Дисперсия ректальной температуры: {rectal_temperature_var:.6f}\\n'\n",
    "      f'Дисперсия пульса: {pulse_var:.6f}\\n '\n",
    "      f'Дисперсия частоты дыхания: {respiratory_rate_var:.6f}')"
   ],
   "id": "9bd45c95bbda7358",
   "outputs": [
    {
     "name": "stdout",
     "output_type": "stream",
     "text": [
      "Дисперсия ректальной температуры: 0.536247\n",
      "Дисперсия пульса: 819.708775\n",
      " Дисперсия частоты дыхания: 311.248328\n",
      "CPU times: total: 0 ns\n",
      "Wall time: 993 μs\n"
     ]
    }
   ],
   "execution_count": 10
  },
  {
   "metadata": {},
   "cell_type": "markdown",
   "source": "Решил узнать быстрее ли решить это через numpy.var()",
   "id": "b4cff4d0b9685d59"
  },
  {
   "metadata": {
    "ExecuteTime": {
     "end_time": "2024-09-07T21:09:04.189484Z",
     "start_time": "2024-09-07T21:09:04.177869Z"
    }
   },
   "cell_type": "code",
   "source": [
    "%%time\n",
    "import numpy as np\n",
    "rectal_t = np.var(df['rectal_temperature'], ddof=1)\n",
    "pulse = np.var(df['pulse'], ddof=1)\n",
    "respiratory_rate = np.var(df['respiratory_rate'], ddof=1)\n",
    "print(f'Дисперсия ректальной температуры: {rectal_t:.6f}\\n'\n",
    "      f'Дисперсия пульса: {pulse:.6f}\\n '\n",
    "      f'Дисперсия частоты дыхания: {respiratory_rate:.6f}')"
   ],
   "id": "6b590bd59001d8aa",
   "outputs": [
    {
     "name": "stdout",
     "output_type": "stream",
     "text": [
      "Дисперсия ректальной температуры: 0.536247\n",
      "Дисперсия пульса: 819.708775\n",
      " Дисперсия частоты дыхания: 311.248328\n",
      "CPU times: total: 15.6 ms\n",
      "Wall time: 999 μs\n"
     ]
    }
   ],
   "execution_count": 11
  },
  {
   "metadata": {},
   "cell_type": "markdown",
   "source": [
    "Первый и третий квантили:\n",
    "\n",
    "Меры разброса характеризуют степень индивидуальных отклонений величины от среднего. Квантили (процентили) - это значение, ниже (выше) которого попадает определенный процент наблюдений отсортированной выбокрке.\n",
    "\n",
    "0.25-квантиль называется первой (или нижней) квартилью\n",
    "0.5-квантиль называется второй квартилью (это же тоже самое, что медиана!)\n",
    "0.75-квантиль называется третьей (или верхней) квартилью.\n",
    "\n",
    "Межквартильный размах:\n",
    "это разница между 1-м и 3-м квартилями, т.е. между 25-м и 75-м процентилями."
   ],
   "id": "e690862cbcbf7c2c"
  },
  {
   "metadata": {
    "ExecuteTime": {
     "end_time": "2024-09-07T21:09:04.373579Z",
     "start_time": "2024-09-07T21:09:04.353589Z"
    }
   },
   "cell_type": "code",
   "source": [
    "Q_1_rect = df['rectal_temperature'].quantile(0.25)\n",
    "Q_3_rect = df['rectal_temperature'].quantile(0.75)\n",
    "IQR_rect = Q_3_rect - Q_1_rect\n",
    "print(f'IQR ректальной температуры: {Q_1_rect:.3f}')\n",
    "\n",
    "Q_1_pulse = df['pulse'].quantile(0.25)\n",
    "Q_3_pulse = df['pulse'].quantile(0.75)\n",
    "IQR_pulse = Q_3_pulse - Q_1_pulse\n",
    "print(f'IQR пульса: {Q_1_pulse:.3f}')\n",
    "\n",
    "Q_1_resp = df['respiratory_rate'].quantile(0.25)\n",
    "Q_3_resp = df['respiratory_rate'].quantile(0.75)\n",
    "IQR_resp = Q_3_resp - Q_1_resp\n",
    "print(f'IQR частоты дыхания: {Q_1_resp:.3f}')"
   ],
   "id": "b1aa03170553b4f2",
   "outputs": [
    {
     "name": "stdout",
     "output_type": "stream",
     "text": [
      "IQR ректальной температуры: 37.800\n",
      "IQR пульса: 48.000\n",
      "IQR частоты дыхания: 18.500\n"
     ]
    }
   ],
   "execution_count": 12
  },
  {
   "metadata": {
    "ExecuteTime": {
     "end_time": "2024-09-07T21:09:04.850889Z",
     "start_time": "2024-09-07T21:09:04.454425Z"
    }
   },
   "cell_type": "code",
   "source": [
    "import seaborn as sns\n",
    "sns.histplot(x = 'rectal_temperature', data = df)"
   ],
   "id": "a3277667035e6776",
   "outputs": [
    {
     "data": {
      "text/plain": [
       "<Axes: xlabel='rectal_temperature', ylabel='Count'>"
      ]
     },
     "execution_count": 13,
     "metadata": {},
     "output_type": "execute_result"
    },
    {
     "data": {
      "text/plain": [
       "<Figure size 640x480 with 1 Axes>"
      ],
      "image/png": "[encoded data removed]"
     },
     "metadata": {},
     "output_type": "display_data"
    }
   ],
   "execution_count": 13
  },
  {
   "metadata": {
    "ExecuteTime": {
     "end_time": "2024-09-07T21:09:05.214458Z",
     "start_time": "2024-09-07T21:09:04.852913Z"
    }
   },
   "cell_type": "code",
   "source": [
    "\n",
    "sns.histplot(x = 'pulse', data = df)"
   ],
   "id": "ed0f27aa92e1255c",
   "outputs": [
    {
     "data": {
      "text/plain": [
       "<Axes: xlabel='pulse', ylabel='Count'>"
      ]
     },
     "execution_count": 14,
     "metadata": {},
     "output_type": "execute_result"
    },
    {
     "data": {
      "text/plain": [
       "<Figure size 640x480 with 1 Axes>"
      ],
      "image/png": "[encoded data removed]"
     },
     "metadata": {},
     "output_type": "display_data"
    }
   ],
   "execution_count": 14
  },
  {
   "metadata": {
    "ExecuteTime": {
     "end_time": "2024-09-07T21:09:05.553096Z",
     "start_time": "2024-09-07T21:09:05.215459Z"
    }
   },
   "cell_type": "code",
   "source": "sns.histplot(x = 'respiratory_rate', data = df)",
   "id": "5a65f1b06ae97e02",
   "outputs": [
    {
     "data": {
      "text/plain": [
       "<Axes: xlabel='respiratory_rate', ylabel='Count'>"
      ]
     },
     "execution_count": 15,
     "metadata": {},
     "output_type": "execute_result"
    },
    {
     "data": {
      "text/plain": [
       "<Figure size 640x480 with 1 Axes>"
      ],
      "image/png": "[encoded data removed]"
     },
     "metadata": {},
     "output_type": "display_data"
    }
   ],
   "execution_count": 15
  },
  {
   "metadata": {
    "ExecuteTime": {
     "end_time": "2024-09-07T21:09:05.849055Z",
     "start_time": "2024-09-07T21:09:05.555103Z"
    }
   },
   "cell_type": "code",
   "source": "sns.boxplot(x = 'rectal_temperature', data = df)",
   "id": "2f17f34f1482a0c9",
   "outputs": [
    {
     "data": {
      "text/plain": [
       "<Axes: xlabel='rectal_temperature'>"
      ]
     },
     "execution_count": 16,
     "metadata": {},
     "output_type": "execute_result"
    },
    {
     "data": {
      "text/plain": [
       "<Figure size 640x480 with 1 Axes>"
      ],
      "image/png": "[encoded data removed]"
     },
     "metadata": {},
     "output_type": "display_data"
    }
   ],
   "execution_count": 16
  },
  {
   "metadata": {
    "ExecuteTime": {
     "end_time": "2024-09-07T21:09:06.126575Z",
     "start_time": "2024-09-07T21:09:05.851057Z"
    }
   },
   "cell_type": "code",
   "source": "sns.boxplot(x = 'pulse', data = df)",
   "id": "d20e0659e3e4d70d",
   "outputs": [
    {
     "data": {
      "text/plain": [
       "<Axes: xlabel='pulse'>"
      ]
     },
     "execution_count": 17,
     "metadata": {},
     "output_type": "execute_result"
    },
    {
     "data": {
      "text/plain": [
       "<Figure size 640x480 with 1 Axes>"
      ],
      "image/png": "[encoded data removed]"
     },
     "metadata": {},
     "output_type": "display_data"
    }
   ],
   "execution_count": 17
  },
  {
   "metadata": {
    "ExecuteTime": {
     "end_time": "2024-09-07T21:09:06.364310Z",
     "start_time": "2024-09-07T21:09:06.128572Z"
    }
   },
   "cell_type": "code",
   "source": "sns.boxplot(x = 'respiratory_rate', data = df)\n",
   "id": "f999adade6765f3b",
   "outputs": [
    {
     "data": {
      "text/plain": [
       "<Axes: xlabel='respiratory_rate'>"
      ]
     },
     "execution_count": 18,
     "metadata": {},
     "output_type": "execute_result"
    },
    {
     "data": {
      "text/plain": [
       "<Figure size 640x480 with 1 Axes>"
      ],
      "image/png": "[encoded data removed]"
     },
     "metadata": {},
     "output_type": "display_data"
    }
   ],
   "execution_count": 18
  },
  {
   "metadata": {
    "ExecuteTime": {
     "end_time": "2024-09-07T21:09:06.684620Z",
     "start_time": "2024-09-07T21:09:06.368298Z"
    }
   },
   "cell_type": "code",
   "source": "sns.scatterplot(x = 'rectal_temperature', y = 'pulse', data = df)",
   "id": "3e3fe8fc929c9d3d",
   "outputs": [
    {
     "data": {
      "text/plain": [
       "<Axes: xlabel='rectal_temperature', ylabel='pulse'>"
      ]
     },
     "execution_count": 19,
     "metadata": {},
     "output_type": "execute_result"
    },
    {
     "data": {
      "text/plain": [
       "<Figure size 640x480 with 1 Axes>"
      ],
      "image/png": "[encoded data removed]"
     },
     "metadata": {},
     "output_type": "display_data"
    }
   ],
   "execution_count": 19
  },
  {
   "metadata": {
    "ExecuteTime": {
     "end_time": "2024-09-07T21:09:07.049437Z",
     "start_time": "2024-09-07T21:09:06.688168Z"
    }
   },
   "cell_type": "code",
   "source": "sns.scatterplot(x = 'rectal_temperature', y = 'respiratory_rate', data = df)",
   "id": "91de1980648731fa",
   "outputs": [
    {
     "data": {
      "text/plain": [
       "<Axes: xlabel='rectal_temperature', ylabel='respiratory_rate'>"
      ]
     },
     "execution_count": 20,
     "metadata": {},
     "output_type": "execute_result"
    },
    {
     "data": {
      "text/plain": [
       "<Figure size 640x480 with 1 Axes>"
      ],
      "image/png": "[encoded data removed]"
     },
     "metadata": {},
     "output_type": "display_data"
    }
   ],
   "execution_count": 20
  },
  {
   "metadata": {
    "ExecuteTime": {
     "end_time": "2024-09-07T21:09:07.407797Z",
     "start_time": "2024-09-07T21:09:07.052446Z"
    }
   },
   "cell_type": "code",
   "source": "sns.scatterplot(x = 'pulse', y = 'respiratory_rate', data = df)",
   "id": "a77fa8fadbd10497",
   "outputs": [
    {
     "data": {
      "text/plain": [
       "<Axes: xlabel='pulse', ylabel='respiratory_rate'>"
      ]
     },
     "execution_count": 21,
     "metadata": {},
     "output_type": "execute_result"
    },
    {
     "data": {
      "text/plain": [
       "<Figure size 640x480 with 1 Axes>"
      ],
      "image/png": "[encoded data removed]"
     },
     "metadata": {},
     "output_type": "display_data"
    }
   ],
   "execution_count": 21
  },
  {
   "metadata": {},
   "cell_type": "markdown",
   "source": [
    "Выбросы:\n",
    "\n",
    "Выбросы (outliers) результаты измерения, сильно выделяющиеся в общей выборке. Наиболее простой из методов обнаружения выбросов основан на межквартильном размахе (т.е. все, что не попадает в указанные диапазоны, является выбросом).\n",
    "\n",
    "Наиболее распространенные причины выбросов в наборе данных:\n",
    "\n",
    "Ошибки ввода данных (человеческий фактор)\n",
    "\n",
    "Погрешности измерения (ошибки приборов)\n",
    "\n",
    "Преднамеренное (например, сделанные для проверки методов обнаружения оборудованием)\n",
    "\n",
    "Ошибки обработки данных\n",
    "\n",
    "Ошибки выборки (извлечение или смешивание данных из неправильных или различных источников)\n",
    "\n",
    "Естественные выбросы (не ошибки, а реальные исключительные наблюдения в данных)"
   ],
   "id": "ffb22fef0710225"
  },
  {
   "metadata": {
    "ExecuteTime": {
     "end_time": "2024-09-07T21:09:07.443790Z",
     "start_time": "2024-09-07T21:09:07.415794Z"
    }
   },
   "cell_type": "code",
   "source": [
    "lower_bound_rect = Q_1_rect - 1.5 * IQR_rect\n",
    "upper_bound_rect = Q_3_rect + 1.5 * IQR_rect\n",
    "\n",
    "lower_bound_pulse = Q_1_pulse - 1.5 * IQR_pulse\n",
    "upper_bound_pulse = Q_3_pulse + 1.5 * IQR_pulse\n",
    "\n",
    "lower_bound_resp = Q_1_resp - 1.5 * IQR_resp\n",
    "upper_bound_resp = Q_3_resp + 1.5 * IQR_resp\n",
    "\n",
    "remove_outliers = df[(df['rectal_temperature'].between(lower_bound_rect, upper_bound_rect,inclusive='both')) & \n",
    "                     (df['pulse'].between(lower_bound_pulse, upper_bound_pulse,inclusive='both')) & \n",
    "                     (df['respiratory_rate'].between(lower_bound_resp, upper_bound_resp,inclusive='both'))]\n",
    "remove_outliers"
   ],
   "id": "728fb13e5f4fdee0",
   "outputs": [
    {
     "data": {
      "text/plain": [
       "     surgery?  Age  rectal_temperature  pulse  respiratory_rate  \\\n",
       "0         2.0    1                38.5   66.0              28.0   \n",
       "1         1.0    1                39.2   88.0              20.0   \n",
       "2         2.0    1                38.3   40.0              24.0   \n",
       "4         2.0    1                37.3  104.0              35.0   \n",
       "6         1.0    1                37.9   48.0              16.0   \n",
       "..        ...  ...                 ...    ...               ...   \n",
       "292       1.0    1                37.0   66.0              20.0   \n",
       "294       2.0    1                38.5   40.0              16.0   \n",
       "296       2.0    1                37.2   72.0              24.0   \n",
       "297       1.0    1                37.5   72.0              30.0   \n",
       "299       1.0    1                37.2   40.0              20.0   \n",
       "\n",
       "     temperature_of_extremities  pain  outcome  \n",
       "0                           3.0   5.0      2.0  \n",
       "1                           NaN   3.0      3.0  \n",
       "2                           1.0   3.0      1.0  \n",
       "4                           NaN   NaN      2.0  \n",
       "6                           1.0   3.0      1.0  \n",
       "..                          ...   ...      ...  \n",
       "292                         1.0   4.0      2.0  \n",
       "294                         1.0   2.0      1.0  \n",
       "296                         3.0   4.0      3.0  \n",
       "297                         4.0   4.0      2.0  \n",
       "299                         NaN   NaN      3.0  \n",
       "\n",
       "[179 rows x 8 columns]"
      ],
      "text/html": [
       "<div>\n",
       "<style scoped>\n",
       "    .dataframe tbody tr th:only-of-type {\n",
       "        vertical-align: middle;\n",
       "    }\n",
       "\n",
       "    .dataframe tbody tr th {\n",
       "        vertical-align: top;\n",
       "    }\n",
       "\n",
       "    .dataframe thead th {\n",
       "        text-align: right;\n",
       "    }\n",
       "</style>\n",
       "<table border=\"1\" class=\"dataframe\">\n",
       "  <thead>\n",
       "    <tr style=\"text-align: right;\">\n",
       "      <th></th>\n",
       "      <th>surgery?</th>\n",
       "      <th>Age</th>\n",
       "      <th>rectal_temperature</th>\n",
       "      <th>pulse</th>\n",
       "      <th>respiratory_rate</th>\n",
       "      <th>temperature_of_extremities</th>\n",
       "      <th>pain</th>\n",
       "      <th>outcome</th>\n",
       "    </tr>\n",
       "  </thead>\n",
       "  <tbody>\n",
       "    <tr>\n",
       "      <th>0</th>\n",
       "      <td>2.0</td>\n",
       "      <td>1</td>\n",
       "      <td>38.5</td>\n",
       "      <td>66.0</td>\n",
       "      <td>28.0</td>\n",
       "      <td>3.0</td>\n",
       "      <td>5.0</td>\n",
       "      <td>2.0</td>\n",
       "    </tr>\n",
       "    <tr>\n",
       "      <th>1</th>\n",
       "      <td>1.0</td>\n",
       "      <td>1</td>\n",
       "      <td>39.2</td>\n",
       "      <td>88.0</td>\n",
       "      <td>20.0</td>\n",
       "      <td>NaN</td>\n",
       "      <td>3.0</td>\n",
       "      <td>3.0</td>\n",
       "    </tr>\n",
       "    <tr>\n",
       "      <th>2</th>\n",
       "      <td>2.0</td>\n",
       "      <td>1</td>\n",
       "      <td>38.3</td>\n",
       "      <td>40.0</td>\n",
       "      <td>24.0</td>\n",
       "      <td>1.0</td>\n",
       "      <td>3.0</td>\n",
       "      <td>1.0</td>\n",
       "    </tr>\n",
       "    <tr>\n",
       "      <th>4</th>\n",
       "      <td>2.0</td>\n",
       "      <td>1</td>\n",
       "      <td>37.3</td>\n",
       "      <td>104.0</td>\n",
       "      <td>35.0</td>\n",
       "      <td>NaN</td>\n",
       "      <td>NaN</td>\n",
       "      <td>2.0</td>\n",
       "    </tr>\n",
       "    <tr>\n",
       "      <th>6</th>\n",
       "      <td>1.0</td>\n",
       "      <td>1</td>\n",
       "      <td>37.9</td>\n",
       "      <td>48.0</td>\n",
       "      <td>16.0</td>\n",
       "      <td>1.0</td>\n",
       "      <td>3.0</td>\n",
       "      <td>1.0</td>\n",
       "    </tr>\n",
       "    <tr>\n",
       "      <th>...</th>\n",
       "      <td>...</td>\n",
       "      <td>...</td>\n",
       "      <td>...</td>\n",
       "      <td>...</td>\n",
       "      <td>...</td>\n",
       "      <td>...</td>\n",
       "      <td>...</td>\n",
       "      <td>...</td>\n",
       "    </tr>\n",
       "    <tr>\n",
       "      <th>292</th>\n",
       "      <td>1.0</td>\n",
       "      <td>1</td>\n",
       "      <td>37.0</td>\n",
       "      <td>66.0</td>\n",
       "      <td>20.0</td>\n",
       "      <td>1.0</td>\n",
       "      <td>4.0</td>\n",
       "      <td>2.0</td>\n",
       "    </tr>\n",
       "    <tr>\n",
       "      <th>294</th>\n",
       "      <td>2.0</td>\n",
       "      <td>1</td>\n",
       "      <td>38.5</td>\n",
       "      <td>40.0</td>\n",
       "      <td>16.0</td>\n",
       "      <td>1.0</td>\n",
       "      <td>2.0</td>\n",
       "      <td>1.0</td>\n",
       "    </tr>\n",
       "    <tr>\n",
       "      <th>296</th>\n",
       "      <td>2.0</td>\n",
       "      <td>1</td>\n",
       "      <td>37.2</td>\n",
       "      <td>72.0</td>\n",
       "      <td>24.0</td>\n",
       "      <td>3.0</td>\n",
       "      <td>4.0</td>\n",
       "      <td>3.0</td>\n",
       "    </tr>\n",
       "    <tr>\n",
       "      <th>297</th>\n",
       "      <td>1.0</td>\n",
       "      <td>1</td>\n",
       "      <td>37.5</td>\n",
       "      <td>72.0</td>\n",
       "      <td>30.0</td>\n",
       "      <td>4.0</td>\n",
       "      <td>4.0</td>\n",
       "      <td>2.0</td>\n",
       "    </tr>\n",
       "    <tr>\n",
       "      <th>299</th>\n",
       "      <td>1.0</td>\n",
       "      <td>1</td>\n",
       "      <td>37.2</td>\n",
       "      <td>40.0</td>\n",
       "      <td>20.0</td>\n",
       "      <td>NaN</td>\n",
       "      <td>NaN</td>\n",
       "      <td>3.0</td>\n",
       "    </tr>\n",
       "  </tbody>\n",
       "</table>\n",
       "<p>179 rows × 8 columns</p>\n",
       "</div>"
      ]
     },
     "execution_count": 22,
     "metadata": {},
     "output_type": "execute_result"
    }
   ],
   "execution_count": 22
  },
  {
   "metadata": {
    "ExecuteTime": {
     "end_time": "2024-09-07T21:09:07.460743Z",
     "start_time": "2024-09-07T21:09:07.447798Z"
    }
   },
   "cell_type": "code",
   "source": [
    "df_surgery = df['surgery?'].value_counts()\n",
    "print(df_surgery, '\\n')\n",
    "\n",
    "df_Age = df['Age'].value_counts()\n",
    "print(df_Age, '\\n')\n",
    "\n",
    "df_t = df['temperature_of_extremities'].value_counts()\n",
    "print(df_t, '\\n')\n",
    "\n",
    "df_pain = df['pain'].value_counts()\n",
    "print(df_pain, '\\n')\n",
    "\n",
    "df_outcome = df['outcome'].value_counts()\n",
    "print(df_outcome, '\\n')"
   ],
   "id": "18a29591ce2008b4",
   "outputs": [
    {
     "name": "stdout",
     "output_type": "stream",
     "text": [
      "surgery?\n",
      "1.0    180\n",
      "2.0    119\n",
      "Name: count, dtype: int64 \n",
      "\n",
      "Age\n",
      "1    276\n",
      "2     24\n",
      "Name: count, dtype: int64 \n",
      "\n",
      "temperature_of_extremities\n",
      "3.0    109\n",
      "1.0     78\n",
      "2.0     30\n",
      "4.0     27\n",
      "Name: count, dtype: int64 \n",
      "\n",
      "pain\n",
      "3.0    67\n",
      "2.0    59\n",
      "5.0    42\n",
      "4.0    39\n",
      "1.0    38\n",
      "Name: count, dtype: int64 \n",
      "\n",
      "outcome\n",
      "1.0    178\n",
      "2.0     77\n",
      "3.0     44\n",
      "Name: count, dtype: int64 \n",
      "\n"
     ]
    }
   ],
   "execution_count": 23
  },
  {
   "metadata": {},
   "cell_type": "markdown",
   "source": [
    "Задание 3. Работа с пропусками\n",
    "\n",
    "Рассчитать количество пропусков для всех выбранных столбцов. Принять и обосновать решение о методе заполнения пропусков по каждому столбцу на основе рассчитанных статистик и возможной взаимосвязи значений в них. Сформировать датафрейм, в котором пропуски будут отсутствовать."
   ],
   "id": "bcf5b82936a07fdc"
  },
  {
   "metadata": {},
   "cell_type": "markdown",
   "source": [
    "Гипотеза\n",
    "Проверим взаимосвязь между столбцами pain и outcome с группировкой по возрасту лошади. Можно сделать вывод, что молодые лошади при коликах погибают. Взрослые лошади при низком уровне боли (до 4) остются живыми, а с 4 уровня боли, погибают все лошади. Признаем эту гипотезу допустимой, поэтому недостающие значения в столбце outcome заполняеем исходя из значения столбца pain."
   ],
   "id": "d79be40413118218"
  },
  {
   "metadata": {
    "ExecuteTime": {
     "end_time": "2024-09-07T21:09:07.477166Z",
     "start_time": "2024-09-07T21:09:07.462741Z"
    }
   },
   "cell_type": "code",
   "source": "df.isna().sum()",
   "id": "ac8eb7eb14b9c4c0",
   "outputs": [
    {
     "data": {
      "text/plain": [
       "surgery?                       1\n",
       "Age                            0\n",
       "rectal_temperature            60\n",
       "pulse                         24\n",
       "respiratory_rate              58\n",
       "temperature_of_extremities    56\n",
       "pain                          55\n",
       "outcome                        1\n",
       "dtype: int64"
      ]
     },
     "execution_count": 24,
     "metadata": {},
     "output_type": "execute_result"
    }
   ],
   "execution_count": 24
  },
  {
   "metadata": {
    "ExecuteTime": {
     "end_time": "2024-09-07T21:09:07.500061Z",
     "start_time": "2024-09-07T21:09:07.480167Z"
    }
   },
   "cell_type": "code",
   "source": [
    "df['outcome'] = df['outcome'].fillna(df['pain'])\n",
    "df"
   ],
   "id": "b6e28df4af5b5b5f",
   "outputs": [
    {
     "data": {
      "text/plain": [
       "     surgery?  Age  rectal_temperature  pulse  respiratory_rate  \\\n",
       "0         2.0    1                38.5   66.0              28.0   \n",
       "1         1.0    1                39.2   88.0              20.0   \n",
       "2         2.0    1                38.3   40.0              24.0   \n",
       "3         1.0    2                39.1  164.0              84.0   \n",
       "4         2.0    1                37.3  104.0              35.0   \n",
       "..        ...  ...                 ...    ...               ...   \n",
       "295       1.0    1                 NaN  120.0              70.0   \n",
       "296       2.0    1                37.2   72.0              24.0   \n",
       "297       1.0    1                37.5   72.0              30.0   \n",
       "298       1.0    1                36.5  100.0              24.0   \n",
       "299       1.0    1                37.2   40.0              20.0   \n",
       "\n",
       "     temperature_of_extremities  pain  outcome  \n",
       "0                           3.0   5.0      2.0  \n",
       "1                           NaN   3.0      3.0  \n",
       "2                           1.0   3.0      1.0  \n",
       "3                           4.0   2.0      2.0  \n",
       "4                           NaN   NaN      2.0  \n",
       "..                          ...   ...      ...  \n",
       "295                         4.0   2.0      3.0  \n",
       "296                         3.0   4.0      3.0  \n",
       "297                         4.0   4.0      2.0  \n",
       "298                         3.0   3.0      1.0  \n",
       "299                         NaN   NaN      3.0  \n",
       "\n",
       "[300 rows x 8 columns]"
      ],
      "text/html": [
       "<div>\n",
       "<style scoped>\n",
       "    .dataframe tbody tr th:only-of-type {\n",
       "        vertical-align: middle;\n",
       "    }\n",
       "\n",
       "    .dataframe tbody tr th {\n",
       "        vertical-align: top;\n",
       "    }\n",
       "\n",
       "    .dataframe thead th {\n",
       "        text-align: right;\n",
       "    }\n",
       "</style>\n",
       "<table border=\"1\" class=\"dataframe\">\n",
       "  <thead>\n",
       "    <tr style=\"text-align: right;\">\n",
       "      <th></th>\n",
       "      <th>surgery?</th>\n",
       "      <th>Age</th>\n",
       "      <th>rectal_temperature</th>\n",
       "      <th>pulse</th>\n",
       "      <th>respiratory_rate</th>\n",
       "      <th>temperature_of_extremities</th>\n",
       "      <th>pain</th>\n",
       "      <th>outcome</th>\n",
       "    </tr>\n",
       "  </thead>\n",
       "  <tbody>\n",
       "    <tr>\n",
       "      <th>0</th>\n",
       "      <td>2.0</td>\n",
       "      <td>1</td>\n",
       "      <td>38.5</td>\n",
       "      <td>66.0</td>\n",
       "      <td>28.0</td>\n",
       "      <td>3.0</td>\n",
       "      <td>5.0</td>\n",
       "      <td>2.0</td>\n",
       "    </tr>\n",
       "    <tr>\n",
       "      <th>1</th>\n",
       "      <td>1.0</td>\n",
       "      <td>1</td>\n",
       "      <td>39.2</td>\n",
       "      <td>88.0</td>\n",
       "      <td>20.0</td>\n",
       "      <td>NaN</td>\n",
       "      <td>3.0</td>\n",
       "      <td>3.0</td>\n",
       "    </tr>\n",
       "    <tr>\n",
       "      <th>2</th>\n",
       "      <td>2.0</td>\n",
       "      <td>1</td>\n",
       "      <td>38.3</td>\n",
       "      <td>40.0</td>\n",
       "      <td>24.0</td>\n",
       "      <td>1.0</td>\n",
       "      <td>3.0</td>\n",
       "      <td>1.0</td>\n",
       "    </tr>\n",
       "    <tr>\n",
       "      <th>3</th>\n",
       "      <td>1.0</td>\n",
       "      <td>2</td>\n",
       "      <td>39.1</td>\n",
       "      <td>164.0</td>\n",
       "      <td>84.0</td>\n",
       "      <td>4.0</td>\n",
       "      <td>2.0</td>\n",
       "      <td>2.0</td>\n",
       "    </tr>\n",
       "    <tr>\n",
       "      <th>4</th>\n",
       "      <td>2.0</td>\n",
       "      <td>1</td>\n",
       "      <td>37.3</td>\n",
       "      <td>104.0</td>\n",
       "      <td>35.0</td>\n",
       "      <td>NaN</td>\n",
       "      <td>NaN</td>\n",
       "      <td>2.0</td>\n",
       "    </tr>\n",
       "    <tr>\n",
       "      <th>...</th>\n",
       "      <td>...</td>\n",
       "      <td>...</td>\n",
       "      <td>...</td>\n",
       "      <td>...</td>\n",
       "      <td>...</td>\n",
       "      <td>...</td>\n",
       "      <td>...</td>\n",
       "      <td>...</td>\n",
       "    </tr>\n",
       "    <tr>\n",
       "      <th>295</th>\n",
       "      <td>1.0</td>\n",
       "      <td>1</td>\n",
       "      <td>NaN</td>\n",
       "      <td>120.0</td>\n",
       "      <td>70.0</td>\n",
       "      <td>4.0</td>\n",
       "      <td>2.0</td>\n",
       "      <td>3.0</td>\n",
       "    </tr>\n",
       "    <tr>\n",
       "      <th>296</th>\n",
       "      <td>2.0</td>\n",
       "      <td>1</td>\n",
       "      <td>37.2</td>\n",
       "      <td>72.0</td>\n",
       "      <td>24.0</td>\n",
       "      <td>3.0</td>\n",
       "      <td>4.0</td>\n",
       "      <td>3.0</td>\n",
       "    </tr>\n",
       "    <tr>\n",
       "      <th>297</th>\n",
       "      <td>1.0</td>\n",
       "      <td>1</td>\n",
       "      <td>37.5</td>\n",
       "      <td>72.0</td>\n",
       "      <td>30.0</td>\n",
       "      <td>4.0</td>\n",
       "      <td>4.0</td>\n",
       "      <td>2.0</td>\n",
       "    </tr>\n",
       "    <tr>\n",
       "      <th>298</th>\n",
       "      <td>1.0</td>\n",
       "      <td>1</td>\n",
       "      <td>36.5</td>\n",
       "      <td>100.0</td>\n",
       "      <td>24.0</td>\n",
       "      <td>3.0</td>\n",
       "      <td>3.0</td>\n",
       "      <td>1.0</td>\n",
       "    </tr>\n",
       "    <tr>\n",
       "      <th>299</th>\n",
       "      <td>1.0</td>\n",
       "      <td>1</td>\n",
       "      <td>37.2</td>\n",
       "      <td>40.0</td>\n",
       "      <td>20.0</td>\n",
       "      <td>NaN</td>\n",
       "      <td>NaN</td>\n",
       "      <td>3.0</td>\n",
       "    </tr>\n",
       "  </tbody>\n",
       "</table>\n",
       "<p>300 rows × 8 columns</p>\n",
       "</div>"
      ]
     },
     "execution_count": 25,
     "metadata": {},
     "output_type": "execute_result"
    }
   ],
   "execution_count": 25
  },
  {
   "metadata": {
    "ExecuteTime": {
     "end_time": "2024-09-07T21:09:07.511146Z",
     "start_time": "2024-09-07T21:09:07.501054Z"
    }
   },
   "cell_type": "code",
   "source": "df.isna().sum()",
   "id": "359fe4e63419537b",
   "outputs": [
    {
     "data": {
      "text/plain": [
       "surgery?                       1\n",
       "Age                            0\n",
       "rectal_temperature            60\n",
       "pulse                         24\n",
       "respiratory_rate              58\n",
       "temperature_of_extremities    56\n",
       "pain                          55\n",
       "outcome                        0\n",
       "dtype: int64"
      ]
     },
     "execution_count": 26,
     "metadata": {},
     "output_type": "execute_result"
    }
   ],
   "execution_count": 26
  },
  {
   "metadata": {
    "ExecuteTime": {
     "end_time": "2024-09-07T21:09:07.885411Z",
     "start_time": "2024-09-07T21:09:07.512136Z"
    }
   },
   "cell_type": "code",
   "source": [
    "sns.scatterplot(x = 'Age', y = 'pain', data = df)\n",
    "sns.scatterplot(x = 'Age', y = 'outcome', data = df)"
   ],
   "id": "2581feea76e82fa7",
   "outputs": [
    {
     "data": {
      "text/plain": [
       "<Axes: xlabel='Age', ylabel='pain'>"
      ]
     },
     "execution_count": 27,
     "metadata": {},
     "output_type": "execute_result"
    },
    {
     "data": {
      "text/plain": [
       "<Figure size 640x480 with 1 Axes>"
      ],
      "image/png": "[encoded data removed]"
     },
     "metadata": {},
     "output_type": "display_data"
    }
   ],
   "execution_count": 27
  },
  {
   "metadata": {},
   "cell_type": "markdown",
   "source": [
    "Гипотеза:\n",
    "Проверим взаимосвязь между столбцами surgery?(операция) и pain (боль)\n",
    "\n",
    "\n",
    "Связь есть - операция была (1) при высоком медианном значении боли (3), и не было (2) при низком значении боли (2).\n",
    "\n",
    "Заполним недостающие значениями столбца pain на основе медианных значений surgery"
   ],
   "id": "f97adbfba9b6a5a9"
  },
  {
   "metadata": {
    "ExecuteTime": {
     "end_time": "2024-09-07T21:28:32.903288Z",
     "start_time": "2024-09-07T21:28:32.890555Z"
    }
   },
   "cell_type": "code",
   "source": [
    "fill_df = df\n",
    "print(fill_df.groupby(['surgery?'])['pain'].median())\n",
    "(\n",
    "      fill_df['pain']\n",
    "      .fillna(fill_df.groupby(['surgery?'])['pain']   \n",
    "      .transform('median'), inplace=True)\n",
    ")\n",
    "\n",
    "fill_df.isna().sum()"
   ],
   "id": "7c0219cd0f9b8759",
   "outputs": [
    {
     "name": "stdout",
     "output_type": "stream",
     "text": [
      "surgery?\n",
      "1.0    3.0\n",
      "2.0    2.0\n",
      "Name: pain, dtype: float64\n"
     ]
    },
    {
     "data": {
      "text/plain": [
       "surgery?                      0\n",
       "Age                           0\n",
       "rectal_temperature            0\n",
       "pulse                         0\n",
       "respiratory_rate              0\n",
       "temperature_of_extremities    0\n",
       "pain                          0\n",
       "outcome                       0\n",
       "dtype: int64"
      ]
     },
     "execution_count": 46,
     "metadata": {},
     "output_type": "execute_result"
    }
   ],
   "execution_count": 46
  },
  {
   "metadata": {},
   "cell_type": "markdown",
   "source": [
    "В подтверждение гипотезы проверим обратную взаимосвязь между столбцами pain и surgery?\n",
    "\n",
    "Связь есть, на уровнях боли 3 и выше, было хирургическое вмешательство. Восстановим отсутствующее значение в столбце 'surgery?'"
   ],
   "id": "7409934befb7b189"
  },
  {
   "metadata": {
    "ExecuteTime": {
     "end_time": "2024-09-07T21:14:31.363353Z",
     "start_time": "2024-09-07T21:14:31.348855Z"
    }
   },
   "cell_type": "code",
   "source": [
    "print(fill_df.groupby(['pain'])['surgery?'].median())\n",
    "(\n",
    "      fill_df['surgery?']\n",
    "      .fillna(fill_df.groupby(['pain'])['surgery?']\n",
    "      .transform('median'), inplace=True)\n",
    "\n",
    ")\n",
    "\n",
    "fill_df.isna().sum()"
   ],
   "id": "b4c683d95262e76c",
   "outputs": [
    {
     "name": "stdout",
     "output_type": "stream",
     "text": [
      "pain\n",
      "1.0    2.0\n",
      "2.0    2.0\n",
      "3.0    1.0\n",
      "4.0    1.0\n",
      "5.0    1.0\n",
      "Name: surgery?, dtype: float64\n"
     ]
    },
    {
     "name": "stderr",
     "output_type": "stream",
     "text": [
      "C:\\Users\\ilyak\\AppData\\Local\\Temp\\ipykernel_82360\\3444155859.py:2: FutureWarning: A value is trying to be set on a copy of a DataFrame or Series through chained assignment using an inplace method.\n",
      "The behavior will change in pandas 3.0. This inplace method will never work because the intermediate object on which we are setting values always behaves as a copy.\n",
      "\n",
      "For example, when doing 'df[col].method(value, inplace=True)', try using 'df.method({col: value}, inplace=True)' or df[col] = df[col].method(value) instead, to perform the operation inplace on the original object.\n",
      "\n",
      "\n",
      "  fill_df['surgery?'].fillna(fill_df.groupby(['pain'])['surgery?'].transform('median'), inplace=True)\n"
     ]
    },
    {
     "data": {
      "text/plain": [
       "surgery?                       0\n",
       "Age                            0\n",
       "rectal_temperature            60\n",
       "pulse                         24\n",
       "respiratory_rate              58\n",
       "temperature_of_extremities    56\n",
       "pain                           0\n",
       "outcome                        0\n",
       "dtype: int64"
      ]
     },
     "execution_count": 35,
     "metadata": {},
     "output_type": "execute_result"
    }
   ],
   "execution_count": 35
  },
  {
   "metadata": {},
   "cell_type": "markdown",
   "source": [
    "Гипотеза:\n",
    "Проверим взаимосвязь между outcome и temperature_of_extremities\n",
    "\n",
    "Выявлена связь, в случаях смертности (outcome = 2 или 3), температура конечностей (temperature of extremities) всегда была 3 (это признак шока).\n",
    "\n",
    "В случае если outcome = 1 (лошадь осталась живой), температура конечностей = 2 (норма).\n",
    "\n",
    "Восстановим отсутствующие значения в столбце 'temperature_of_extremities'\n"
   ],
   "id": "fdcbb46e47f272"
  },
  {
   "metadata": {
    "ExecuteTime": {
     "end_time": "2024-09-07T21:18:44.050974Z",
     "start_time": "2024-09-07T21:18:44.038445Z"
    }
   },
   "cell_type": "code",
   "source": [
    "print(df.groupby(['outcome'])['temperature_of_extremities'].median())\n",
    "(\n",
    "      fill_df['temperature_of_extremities']\n",
    "      .fillna(fill_df.groupby(['outcome'])['temperature_of_extremities']\n",
    "      .transform('median'), inplace=True)\n",
    ")\n",
    "\n",
    "fill_df.isna().sum()"
   ],
   "id": "5974426016cb69bf",
   "outputs": [
    {
     "name": "stdout",
     "output_type": "stream",
     "text": [
      "outcome\n",
      "1.0    2.0\n",
      "2.0    3.0\n",
      "3.0    3.0\n",
      "4.0    3.0\n",
      "Name: temperature_of_extremities, dtype: float64\n"
     ]
    },
    {
     "name": "stderr",
     "output_type": "stream",
     "text": [
      "C:\\Users\\ilyak\\AppData\\Local\\Temp\\ipykernel_82360\\361469633.py:4: FutureWarning: A value is trying to be set on a copy of a DataFrame or Series through chained assignment using an inplace method.\n",
      "The behavior will change in pandas 3.0. This inplace method will never work because the intermediate object on which we are setting values always behaves as a copy.\n",
      "\n",
      "For example, when doing 'df[col].method(value, inplace=True)', try using 'df.method({col: value}, inplace=True)' or df[col] = df[col].method(value) instead, to perform the operation inplace on the original object.\n",
      "\n",
      "\n",
      "  .fillna(fill_df.groupby(['outcome'])['temperature_of_extremities']\n"
     ]
    },
    {
     "data": {
      "text/plain": [
       "surgery?                       0\n",
       "Age                            0\n",
       "rectal_temperature            60\n",
       "pulse                         24\n",
       "respiratory_rate              58\n",
       "temperature_of_extremities     0\n",
       "pain                           0\n",
       "outcome                        0\n",
       "dtype: int64"
      ]
     },
     "execution_count": 39,
     "metadata": {},
     "output_type": "execute_result"
    }
   ],
   "execution_count": 39
  },
  {
   "metadata": {},
   "cell_type": "markdown",
   "source": [
    "Гипотеза:\n",
    "Проверим взаимосвязь между столбцами temperature_of_extremities и pulse\n",
    "\n",
    "Выявлена связь, чем ниже температура конечностей (признак заболевания), тем выше пульс.\n",
    "\n",
    "Восстановим отсутствующие значения в столбце 'pulse'"
   ],
   "id": "59f6a88d01f32046"
  },
  {
   "metadata": {
    "ExecuteTime": {
     "end_time": "2024-09-07T21:29:39.718234Z",
     "start_time": "2024-09-07T21:29:39.705049Z"
    }
   },
   "cell_type": "code",
   "source": [
    "print(df.groupby(['temperature_of_extremities'])['pulse'].median())\n",
    "\n",
    "\n",
    "(\n",
    "      fill_df['pulse']\n",
    "      .fillna(fill_df.groupby(['temperature_of_extremities'])['pulse']\n",
    "      .transform('median'), inplace=True)\n",
    ")\n",
    "\n",
    "fill_df.isna().sum()"
   ],
   "id": "472af46bbcb30a38",
   "outputs": [
    {
     "name": "stdout",
     "output_type": "stream",
     "text": [
      "temperature_of_extremities\n",
      "1.0    54.0\n",
      "2.0    54.0\n",
      "3.0    78.0\n",
      "4.0    90.0\n",
      "Name: pulse, dtype: float64\n"
     ]
    },
    {
     "name": "stderr",
     "output_type": "stream",
     "text": [
      "C:\\Users\\ilyak\\AppData\\Local\\Temp\\ipykernel_82360\\700351998.py:6: FutureWarning: A value is trying to be set on a copy of a DataFrame or Series through chained assignment using an inplace method.\n",
      "The behavior will change in pandas 3.0. This inplace method will never work because the intermediate object on which we are setting values always behaves as a copy.\n",
      "\n",
      "For example, when doing 'df[col].method(value, inplace=True)', try using 'df.method({col: value}, inplace=True)' or df[col] = df[col].method(value) instead, to perform the operation inplace on the original object.\n",
      "\n",
      "\n",
      "  .fillna(fill_df.groupby(['temperature_of_extremities'])['pulse']\n"
     ]
    },
    {
     "data": {
      "text/plain": [
       "surgery?                      0\n",
       "Age                           0\n",
       "rectal_temperature            0\n",
       "pulse                         0\n",
       "respiratory_rate              0\n",
       "temperature_of_extremities    0\n",
       "pain                          0\n",
       "outcome                       0\n",
       "dtype: int64"
      ]
     },
     "execution_count": 48,
     "metadata": {},
     "output_type": "execute_result"
    }
   ],
   "execution_count": 48
  },
  {
   "metadata": {},
   "cell_type": "markdown",
   "source": [
    "Гипотеза:\n",
    "Проверим утверждения из описания, что ректальная температура повышается во время инфекции, а во время болевого шока (значение - pain) температура понижается\n",
    "\n",
    "Гипотезу можно признать успешной. При высоких показателях боли, медианная температура понижается.\n",
    "\n",
    "Восстановим отсутствующие значения в столбце 'rectal_temperature'\n",
    "\n",
    "В описании respiratory_rate, написано что влияние этого показателя вызывает сомнения, из-за существенных колебаний значений.\n",
    "\n",
    "Заполним недостающие значения медианными."
   ],
   "id": "d1669a7a28a77a10"
  },
  {
   "metadata": {
    "ExecuteTime": {
     "end_time": "2024-09-07T21:25:56.453198Z",
     "start_time": "2024-09-07T21:25:56.440201Z"
    }
   },
   "cell_type": "code",
   "source": [
    "print(df.groupby(['pain'])['rectal_temperature'].median())\n",
    "\n",
    "(\n",
    "      fill_df['rectal_temperature']\n",
    "      .fillna(fill_df.groupby(['pain'])['rectal_temperature']\n",
    "      .transform('median'), inplace=True)\n",
    ")\n",
    "\n",
    "(\n",
    "      fill_df['respiratory_rate']\n",
    "      .fillna(fill_df['respiratory_rate']\n",
    "      .median(), inplace=True)\n",
    ")\n",
    "\n",
    "fill_df.isna().sum()"
   ],
   "id": "89f9e886ec22bab2",
   "outputs": [
    {
     "name": "stdout",
     "output_type": "stream",
     "text": [
      "pain\n",
      "1.0    38.2\n",
      "2.0    38.3\n",
      "3.0    38.2\n",
      "4.0    38.0\n",
      "5.0    38.0\n",
      "Name: rectal_temperature, dtype: float64\n"
     ]
    },
    {
     "name": "stderr",
     "output_type": "stream",
     "text": [
      "C:\\Users\\ilyak\\AppData\\Local\\Temp\\ipykernel_82360\\4174831841.py:5: FutureWarning: A value is trying to be set on a copy of a DataFrame or Series through chained assignment using an inplace method.\n",
      "The behavior will change in pandas 3.0. This inplace method will never work because the intermediate object on which we are setting values always behaves as a copy.\n",
      "\n",
      "For example, when doing 'df[col].method(value, inplace=True)', try using 'df.method({col: value}, inplace=True)' or df[col] = df[col].method(value) instead, to perform the operation inplace on the original object.\n",
      "\n",
      "\n",
      "  .fillna(fill_df.groupby(['pain'])['rectal_temperature']\n",
      "C:\\Users\\ilyak\\AppData\\Local\\Temp\\ipykernel_82360\\4174831841.py:11: FutureWarning: A value is trying to be set on a copy of a DataFrame or Series through chained assignment using an inplace method.\n",
      "The behavior will change in pandas 3.0. This inplace method will never work because the intermediate object on which we are setting values always behaves as a copy.\n",
      "\n",
      "For example, when doing 'df[col].method(value, inplace=True)', try using 'df.method({col: value}, inplace=True)' or df[col] = df[col].method(value) instead, to perform the operation inplace on the original object.\n",
      "\n",
      "\n",
      "  .fillna(fill_df['respiratory_rate']\n"
     ]
    },
    {
     "data": {
      "text/plain": [
       "surgery?                      0\n",
       "Age                           0\n",
       "rectal_temperature            0\n",
       "pulse                         0\n",
       "respiratory_rate              0\n",
       "temperature_of_extremities    0\n",
       "pain                          0\n",
       "outcome                       0\n",
       "dtype: int64"
      ]
     },
     "execution_count": 42,
     "metadata": {},
     "output_type": "execute_result"
    }
   ],
   "execution_count": 42
  },
  {
   "metadata": {
    "ExecuteTime": {
     "end_time": "2024-09-07T21:33:52.932424Z",
     "start_time": "2024-09-07T21:33:52.643189Z"
    }
   },
   "cell_type": "code",
   "source": "sns.histplot(x = 'rectal_temperature', data = fill_df, kde = True);",
   "id": "feab1190d3723ff0",
   "outputs": [
    {
     "data": {
      "text/plain": [
       "<Figure size 640x480 with 1 Axes>"
      ],
      "image/png": "[encoded data removed]"
     },
     "metadata": {},
     "output_type": "display_data"
    }
   ],
   "execution_count": 60
  },
  {
   "metadata": {
    "ExecuteTime": {
     "end_time": "2024-09-07T21:33:44.776851Z",
     "start_time": "2024-09-07T21:33:44.456282Z"
    }
   },
   "cell_type": "code",
   "source": [
    "\n",
    "sns.histplot(x = 'pulse', data = fill_df, kde = True);"
   ],
   "id": "3fb440ba854d9d5b",
   "outputs": [
    {
     "data": {
      "text/plain": [
       "<Figure size 640x480 with 1 Axes>"
      ],
      "image/png": "[encoded data removed]"
     },
     "metadata": {},
     "output_type": "display_data"
    }
   ],
   "execution_count": 59
  },
  {
   "metadata": {
    "ExecuteTime": {
     "end_time": "2024-09-07T21:34:01.077567Z",
     "start_time": "2024-09-07T21:34:00.846355Z"
    }
   },
   "cell_type": "code",
   "source": [
    "\n",
    "sns.histplot(x = 'respiratory_rate', data = fill_df, kde = True);"
   ],
   "id": "ea7134b6811c834d",
   "outputs": [
    {
     "data": {
      "text/plain": [
       "<Figure size 640x480 with 1 Axes>"
      ],
      "image/png": "[encoded data removed]"
     },
     "metadata": {},
     "output_type": "display_data"
    }
   ],
   "execution_count": 61
  },
  {
   "metadata": {
    "ExecuteTime": {
     "end_time": "2024-09-07T21:31:32.590106Z",
     "start_time": "2024-09-07T21:31:32.420990Z"
    }
   },
   "cell_type": "code",
   "source": [
    "\n",
    "sns.countplot(x = 'surgery?', data = fill_df);"
   ],
   "id": "eb958186b611c135",
   "outputs": [
    {
     "data": {
      "text/plain": [
       "<Figure size 640x480 with 1 Axes>"
      ],
      "image/png": "[encoded data removed]"
     },
     "metadata": {},
     "output_type": "display_data"
    }
   ],
   "execution_count": 54
  },
  {
   "metadata": {
    "ExecuteTime": {
     "end_time": "2024-09-07T21:34:27.816299Z",
     "start_time": "2024-09-07T21:34:27.620449Z"
    }
   },
   "cell_type": "code",
   "source": [
    "\n",
    "sns.countplot(x = 'outcome', data = fill_df, hue = 'surgery?', dodge = True);"
   ],
   "id": "2e4d4064a577a617",
   "outputs": [
    {
     "data": {
      "text/plain": [
       "<Figure size 640x480 with 1 Axes>"
      ],
      "image/png": "[encoded data removed]"
     },
     "metadata": {},
     "output_type": "display_data"
    }
   ],
   "execution_count": 63
  },
  {
   "metadata": {
    "ExecuteTime": {
     "end_time": "2024-09-07T21:34:38.048981Z",
     "start_time": "2024-09-07T21:34:37.785699Z"
    }
   },
   "cell_type": "code",
   "source": [
    "\n",
    "sns.countplot(x = 'pain', data = fill_df, hue = 'surgery?', dodge = True);"
   ],
   "id": "5e8a64235968526a",
   "outputs": [
    {
     "data": {
      "text/plain": [
       "<Figure size 640x480 with 1 Axes>"
      ],
      "image/png": "[encoded data removed]"
     },
     "metadata": {},
     "output_type": "display_data"
    }
   ],
   "execution_count": 64
  },
  {
   "metadata": {
    "ExecuteTime": {
     "end_time": "2024-09-07T21:34:47.491937Z",
     "start_time": "2024-09-07T21:34:47.231287Z"
    }
   },
   "cell_type": "code",
   "source": [
    "\n",
    "sns.histplot(x = 'temperature_of_extremities', data = fill_df, kde = True);"
   ],
   "id": "dd219ddd0e6d07a5",
   "outputs": [
    {
     "data": {
      "text/plain": [
       "<Figure size 640x480 with 1 Axes>"
      ],
      "image/png": "[encoded data removed]"
     },
     "metadata": {},
     "output_type": "display_data"
    }
   ],
   "execution_count": 65
  },
  {
   "metadata": {},
   "cell_type": "markdown",
   "source": "",
   "id": "48c6f1e4a053bddc"
  },
  {
   "metadata": {
    "ExecuteTime": {
     "end_time": "2024-09-07T21:45:19.085304Z",
     "start_time": "2024-09-07T21:45:19.051283Z"
    }
   },
   "cell_type": "code",
   "source": [
    "\n",
    "fill_df_max = fill_df.select_dtypes(include='number').max()\n",
    "fill_df_min = fill_df.select_dtypes(include='number').min()\n",
    "fill_df_range = fill_df_max - fill_df_min\n",
    "fill_df_mean = fill_df.select_dtypes(include='number').mean()\n",
    "fill_df_mode = fill_df.select_dtypes(include='number').mode()\n",
    "fill_df_median = fill_df.select_dtypes(include='number').median()\n",
    "fill_df_std = fill_df.select_dtypes(include='number').std()\n",
    "fill_df_var = fill_df.select_dtypes(include='number').var()\n",
    "\n",
    "fill_df_quantile_1_3 = fill_df.select_dtypes(include='number').quantile([0.25, 0.75])\n",
    "fill_df_quantile_random = fill_df.select_dtypes(include='number').quantile(0.33)\n",
    "fill_df_quantile_1 = fill_df.select_dtypes(include='number').quantile(0.25)\n",
    "fill_df_quantile_3 = fill_df.select_dtypes(include='number').quantile(0.75)\n",
    "fill_iqr = fill_df_quantile_3 - fill_df_quantile_1\n",
    "\n",
    "fill_lower_bound = fill_df_quantile_1 - 1.5 * fill_iqr\n",
    "fill_upper_bound = fill_df_quantile_3 + 1.5 * fill_iqr\n",
    "\n",
    "print(\n",
    "      f'Максимальные значения: {fill_df_max}\\n'\n",
    "      f'Минимальные значения: {fill_df_min}\\n'\n",
    "      f'Размах: {fill_df_range}\\n'\n",
    "      f'Средние значения: {fill_df_mean}\\n'\n",
    "      f'Мода: {fill_df_mode}\\n'\n",
    "      f'Медиана: {fill_df_median}\\n'\n",
    "      f'Стандартное отклонение: {fill_df_std}\\n'\n",
    "      f'Дисперсия: {fill_df_var}\\n'\n",
    "      f'Квантиль 0.33: {fill_df_quantile_random}\\n'\n",
    "      f'Квантиль 0.25: {fill_df_quantile_1}\\n'\n",
    "      f'Квантиль 0.75: {fill_df_quantile_3}\\n'\n",
    "      f'IQR: {fill_iqr}\\n'\n",
    "      )"
   ],
   "id": "4e68db98ffe85601",
   "outputs": [
    {
     "name": "stdout",
     "output_type": "stream",
     "text": [
      "Максимальные значения: surgery?                        2.0\n",
      "Age                             2.0\n",
      "rectal_temperature             40.8\n",
      "pulse                         184.0\n",
      "respiratory_rate               96.0\n",
      "temperature_of_extremities      4.0\n",
      "pain                            5.0\n",
      "outcome                         4.0\n",
      "dtype: float64\n",
      "Минимальные значения: surgery?                       1.0\n",
      "Age                            1.0\n",
      "rectal_temperature            35.4\n",
      "pulse                         30.0\n",
      "respiratory_rate               8.0\n",
      "temperature_of_extremities     1.0\n",
      "pain                           1.0\n",
      "outcome                        1.0\n",
      "dtype: float64\n",
      "Размах: surgery?                        1.0\n",
      "Age                             1.0\n",
      "rectal_temperature              5.4\n",
      "pulse                         154.0\n",
      "respiratory_rate               88.0\n",
      "temperature_of_extremities      3.0\n",
      "pain                            4.0\n",
      "outcome                         3.0\n",
      "dtype: float64\n",
      "Средние значения: surgery?                       1.396667\n",
      "Age                            1.080000\n",
      "rectal_temperature            38.159333\n",
      "pulse                         71.760000\n",
      "respiratory_rate              29.273333\n",
      "temperature_of_extremities     2.363333\n",
      "pain                           2.900000\n",
      "outcome                        1.560000\n",
      "dtype: float64\n",
      "Мода:    surgery?  Age  rectal_temperature  pulse  respiratory_rate  \\\n",
      "0       1.0    1                38.0   48.0              24.5   \n",
      "\n",
      "   temperature_of_extremities  pain  outcome  \n",
      "0                         3.0   3.0      1.0  \n",
      "Медиана: surgery?                       1.0\n",
      "Age                            1.0\n",
      "rectal_temperature            38.2\n",
      "pulse                         64.0\n",
      "respiratory_rate              24.5\n",
      "temperature_of_extremities     3.0\n",
      "pain                           3.0\n",
      "outcome                        1.0\n",
      "dtype: float64\n",
      "Стандартное отклонение: surgery?                       0.490023\n",
      "Age                            0.271746\n",
      "rectal_temperature             0.657358\n",
      "pulse                         27.701027\n",
      "respiratory_rate              16.010979\n",
      "temperature_of_extremities     0.966663\n",
      "pain                           1.203395\n",
      "outcome                        0.749403\n",
      "dtype: float64\n",
      "Дисперсия: surgery?                        0.240123\n",
      "Age                             0.073846\n",
      "rectal_temperature              0.432120\n",
      "pulse                         767.346890\n",
      "respiratory_rate              256.351460\n",
      "temperature_of_extremities      0.934437\n",
      "pain                            1.448161\n",
      "outcome                         0.561605\n",
      "dtype: float64\n",
      "Квантиль 0.33: surgery?                       1.0\n",
      "Age                            1.0\n",
      "rectal_temperature            38.0\n",
      "pulse                         54.0\n",
      "respiratory_rate              24.0\n",
      "temperature_of_extremities     2.0\n",
      "pain                           2.0\n",
      "outcome                        1.0\n",
      "Name: 0.33, dtype: float64\n",
      "Квантиль 0.25: surgery?                       1.0\n",
      "Age                            1.0\n",
      "rectal_temperature            37.9\n",
      "pulse                         48.0\n",
      "respiratory_rate              20.0\n",
      "temperature_of_extremities     1.0\n",
      "pain                           2.0\n",
      "outcome                        1.0\n",
      "Name: 0.25, dtype: float64\n",
      "Квантиль 0.75: surgery?                       2.00\n",
      "Age                            1.00\n",
      "rectal_temperature            38.50\n",
      "pulse                         88.00\n",
      "respiratory_rate              34.25\n",
      "temperature_of_extremities     3.00\n",
      "pain                           4.00\n",
      "outcome                        2.00\n",
      "Name: 0.75, dtype: float64\n",
      "IQR: surgery?                       1.00\n",
      "Age                            0.00\n",
      "rectal_temperature             0.60\n",
      "pulse                         40.00\n",
      "respiratory_rate              14.25\n",
      "temperature_of_extremities     2.00\n",
      "pain                           2.00\n",
      "outcome                        1.00\n",
      "dtype: float64\n",
      "\n"
     ]
    }
   ],
   "execution_count": 71
  },
  {
   "metadata": {},
   "cell_type": "code",
   "outputs": [],
   "execution_count": null,
   "source": "",
   "id": "ae8aa34b5b55aaba"
  }
 ],
 "metadata": {
  "kernelspec": {
   "display_name": "Python 3",
   "language": "python",
   "name": "python3"
  },
  "language_info": {
   "codemirror_mode": {
    "name": "ipython",
    "version": 2
   },
   "file_extension": ".py",
   "mimetype": "text/x-python",
   "name": "python",
   "nbconvert_exporter": "python",
   "pygments_lexer": "ipython2",
   "version": "2.7.6"
  }
 },
 "nbformat": 4,
 "nbformat_minor": 5
}
