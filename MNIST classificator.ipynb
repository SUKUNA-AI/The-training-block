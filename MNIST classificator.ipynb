{
 "cells": [
  {
   "metadata": {
    "ExecuteTime": {
     "end_time": "2024-10-13T20:38:56.739498Z",
     "start_time": "2024-10-13T20:37:32.696544Z"
    }
   },
   "cell_type": "code",
   "source": [
    "import torch\n",
    "import torchvision as tv\n",
    "from torch import nn, optim\n",
    "import torch.nn.functional as F\n",
    "import numpy as np\n",
    "from tqdm import tqdm\n",
    "from torch.utils.data import DataLoader\n",
    "\n",
    "n_input = 28*28\n",
    "n_output = 10\n",
    "\n",
    "trans = tv.transforms.Compose([\n",
    "    tv.transforms.ToTensor(),\n",
    "])\n",
    "\n",
    "ds_mnist_train = tv.datasets.MNIST('C:\\\\Users\\\\ilyak\\\\Desktop\\\\Python\\\\MNIST', download=True, train=True, transform= trans)\n",
    "ds_mnist_test = tv.datasets.MNIST('C:\\\\Users\\\\ilyak\\\\Desktop\\\\Python\\\\MNIST', download=True, train=False, transform=trans)\n",
    "\n",
    "dataloader_train = DataLoader(ds_mnist_train, batch_size=20, shuffle=True, pin_memory=True)\n",
    "dataloader_test = DataLoader(ds_mnist_test, batch_size=20, shuffle=True, pin_memory=True)\n",
    "\n",
    "\n",
    "class Neural_numbers_network(nn.Module):\n",
    "    def __init__(self):\n",
    "        super(Neural_numbers_network, self).__init__()\n",
    "        self.linear1 = nn.Linear(n_input, 128)\n",
    "        self.act = nn.ReLU()\n",
    "        self.linear2 = nn.Linear(128, n_output)\n",
    "\n",
    "    def forward(self, x):\n",
    "        out = F.relu(self.linear1(x))\n",
    "        out = F.relu(out)\n",
    "        out = self.linear2(out)\n",
    "\n",
    "        return out\n",
    "\n",
    "model = Neural_numbers_network().to(\"cuda:0\" if torch.cuda.is_available() else \"cpu\")\n",
    "loss_fn = nn.CrossEntropyLoss()\n",
    "optimizer = optim.SGD(model.parameters(), lr=0.01, momentum=0.9)\n",
    "\n",
    "# Обучение модели\n",
    "for epoch in range(5):\n",
    "    model.train()\n",
    "    for img, label in tqdm(dataloader_train):\n",
    "\n",
    "        img = img.view(-1, 784).to(device=\"cuda:0\" if torch.cuda.is_available() else \"cpu\")\n",
    "\n",
    "        label = label.to(device=\"cuda:0\" if torch.cuda.is_available() else \"cpu\")\n",
    "\n",
    "        optimizer.zero_grad()\n",
    "        pred = model(img.view(-1, 784))\n",
    "\n",
    "        loss = loss_fn(pred, label)\n",
    "        loss.backward()\n",
    "        optimizer.step()\n",
    "\n",
    "    model.eval()\n",
    "    total_correct = 0\n",
    "    with torch.no_grad():\n",
    "        for img, label in tqdm(dataloader_test):\n",
    "            img = img.view(-1, 784).to(device=\"cuda:0\" if torch.cuda.is_available() else \"cpu\")\n",
    "\n",
    "            label = label.to(device=\"cuda:0\" if torch.cuda.is_available() else \"cpu\")\n",
    "\n",
    "            pred = model(img.view(-1, 784))\n",
    "            total_correct += (pred.argmax(dim=1) == label).sum().item()\n",
    "\n",
    "    accuracy = total_correct / len(dataloader_test.dataset)\n",
    "    print(f'Epoch {epoch+1}, Accuracy: {accuracy:.3f}')"
   ],
   "id": "66174e3998dc6ecf",
   "outputs": [
    {
     "name": "stderr",
     "output_type": "stream",
     "text": [
      "100%|██████████| 3000/3000 [00:14<00:00, 202.08it/s]\n",
      "100%|██████████| 500/500 [00:01<00:00, 300.76it/s]\n"
     ]
    },
    {
     "name": "stdout",
     "output_type": "stream",
     "text": [
      "Epoch 1, Accuracy: 0.953\n"
     ]
    },
    {
     "name": "stderr",
     "output_type": "stream",
     "text": [
      "100%|██████████| 3000/3000 [00:15<00:00, 197.62it/s]\n",
      "100%|██████████| 500/500 [00:01<00:00, 258.86it/s]\n"
     ]
    },
    {
     "name": "stdout",
     "output_type": "stream",
     "text": [
      "Epoch 2, Accuracy: 0.969\n"
     ]
    },
    {
     "name": "stderr",
     "output_type": "stream",
     "text": [
      "100%|██████████| 3000/3000 [00:15<00:00, 198.27it/s]\n",
      "100%|██████████| 500/500 [00:01<00:00, 279.17it/s]\n"
     ]
    },
    {
     "name": "stdout",
     "output_type": "stream",
     "text": [
      "Epoch 3, Accuracy: 0.972\n"
     ]
    },
    {
     "name": "stderr",
     "output_type": "stream",
     "text": [
      "100%|██████████| 3000/3000 [00:14<00:00, 200.41it/s]\n",
      "100%|██████████| 500/500 [00:01<00:00, 295.74it/s]\n"
     ]
    },
    {
     "name": "stdout",
     "output_type": "stream",
     "text": [
      "Epoch 4, Accuracy: 0.976\n"
     ]
    },
    {
     "name": "stderr",
     "output_type": "stream",
     "text": [
      "100%|██████████| 3000/3000 [00:14<00:00, 203.46it/s]\n",
      "100%|██████████| 500/500 [00:01<00:00, 250.80it/s]\n"
     ]
    },
    {
     "name": "stdout",
     "output_type": "stream",
     "text": [
      "Epoch 5, Accuracy: 0.977\n"
     ]
    }
   ],
   "execution_count": 223
  },
  {
   "metadata": {
    "ExecuteTime": {
     "end_time": "2024-10-13T19:42:24.541551Z",
     "start_time": "2024-10-13T19:42:24.521528Z"
    }
   },
   "cell_type": "code",
   "source": "",
   "id": "a5d8989580798627",
   "outputs": [
    {
     "data": {
      "text/plain": [
       "True"
      ]
     },
     "execution_count": 207,
     "metadata": {},
     "output_type": "execute_result"
    }
   ],
   "execution_count": 207
  },
  {
   "metadata": {},
   "cell_type": "code",
   "outputs": [],
   "execution_count": null,
   "source": "",
   "id": "29af2384a4520623"
  }
 ],
 "metadata": {
  "kernelspec": {
   "display_name": "Python 3",
   "language": "python",
   "name": "python3"
  },
  "language_info": {
   "codemirror_mode": {
    "name": "ipython",
    "version": 2
   },
   "file_extension": ".py",
   "mimetype": "text/x-python",
   "name": "python",
   "nbconvert_exporter": "python",
   "pygments_lexer": "ipython2",
   "version": "2.7.6"
  }
 },
 "nbformat": 4,
 "nbformat_minor": 5
}
